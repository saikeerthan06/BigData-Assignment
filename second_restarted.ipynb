{
 "cells": [
  {
   "cell_type": "markdown",
   "id": "a1a42a71",
   "metadata": {},
   "source": [
    "# Second Restarted IPYNB"
   ]
  },
  {
   "cell_type": "code",
   "execution_count": 33,
   "id": "b211c876",
   "metadata": {},
   "outputs": [],
   "source": [
    "import os\n",
    "import sys \n",
    "# mathematical operations imports\n",
    "import pandas as pd \n",
    "import numpy as np\n",
    "#visualisation imports\n",
    "import matplotlib.pyplot as plt\n",
    "import plotly.express as px\n",
    "import plotly.io as pio\n",
    "import plotly.graph_objects as go\n",
    "import seaborn as sns\n",
    "# modelling imports\n",
    "import sklearn\n",
    "from sklearn import datasets\n",
    "from sklearn.model_selection import train_test_split, GridSearchCV, RandomizedSearchCV\n",
    "from sklearn.preprocessing import StandardScaler, MinMaxScaler, LabelEncoder, RobustScaler\n",
    "from sklearn.metrics import mean_squared_error, r2_score, confusion_matrix, classification_report\n",
    "from sklearn.pipeline import Pipeline\n",
    "from sklearn.compose import ColumnTransformer\n",
    "from sklearn.preprocessing import OrdinalEncoder, StandardScaler, OneHotEncoder, PolynomialFeatures\n",
    "from sklearn.ensemble import RandomForestRegressor, GradientBoostingRegressor, AdaBoostRegressor\n",
    "from sklearn.tree import DecisionTreeRegressor\n"
   ]
  },
  {
   "cell_type": "markdown",
   "id": "c90048a0",
   "metadata": {},
   "source": [
    "# Data Loading"
   ]
  },
  {
   "cell_type": "code",
   "execution_count": 34,
   "id": "4eb072f4",
   "metadata": {},
   "outputs": [
    {
     "name": "stdout",
     "output_type": "stream",
     "text": [
      "Current working directory: /Users/saikeerthan/NYP-AI/Year3/Big_Data/restarted_big_data\n"
     ]
    }
   ],
   "source": [
    "cwd = os.getcwd()\n",
    "\n",
    "print(f\"Current working directory: {cwd}\")"
   ]
  },
  {
   "cell_type": "code",
   "execution_count": 35,
   "id": "4eaecb55",
   "metadata": {},
   "outputs": [
    {
     "data": {
      "text/html": [
       "<div>\n",
       "<style scoped>\n",
       "    .dataframe tbody tr th:only-of-type {\n",
       "        vertical-align: middle;\n",
       "    }\n",
       "\n",
       "    .dataframe tbody tr th {\n",
       "        vertical-align: top;\n",
       "    }\n",
       "\n",
       "    .dataframe thead th {\n",
       "        text-align: right;\n",
       "    }\n",
       "</style>\n",
       "<table border=\"1\" class=\"dataframe\">\n",
       "  <thead>\n",
       "    <tr style=\"text-align: right;\">\n",
       "      <th></th>\n",
       "      <th>jobId</th>\n",
       "      <th>companyId</th>\n",
       "      <th>jobRole</th>\n",
       "      <th>education</th>\n",
       "      <th>major</th>\n",
       "      <th>industry</th>\n",
       "      <th>yearsExperience</th>\n",
       "      <th>distanceFromCBD</th>\n",
       "    </tr>\n",
       "  </thead>\n",
       "  <tbody>\n",
       "    <tr>\n",
       "      <th>0</th>\n",
       "      <td>JOB1362684407687</td>\n",
       "      <td>COMP37</td>\n",
       "      <td>CFO</td>\n",
       "      <td>MASTERS</td>\n",
       "      <td>MATH</td>\n",
       "      <td>HEALTH</td>\n",
       "      <td>10.0</td>\n",
       "      <td>83.0</td>\n",
       "    </tr>\n",
       "    <tr>\n",
       "      <th>1</th>\n",
       "      <td>JOB1362684407688</td>\n",
       "      <td>COMP19</td>\n",
       "      <td>CEO</td>\n",
       "      <td>HIGH_SCHOOL</td>\n",
       "      <td>NONE</td>\n",
       "      <td>WEB</td>\n",
       "      <td>3.0</td>\n",
       "      <td>73.0</td>\n",
       "    </tr>\n",
       "    <tr>\n",
       "      <th>2</th>\n",
       "      <td>NaN</td>\n",
       "      <td>NaN</td>\n",
       "      <td>NaN</td>\n",
       "      <td>NaN</td>\n",
       "      <td>NaN</td>\n",
       "      <td>NaN</td>\n",
       "      <td>NaN</td>\n",
       "      <td>NaN</td>\n",
       "    </tr>\n",
       "    <tr>\n",
       "      <th>3</th>\n",
       "      <td>NaN</td>\n",
       "      <td>NaN</td>\n",
       "      <td>NaN</td>\n",
       "      <td>NaN</td>\n",
       "      <td>NaN</td>\n",
       "      <td>NaN</td>\n",
       "      <td>NaN</td>\n",
       "      <td>NaN</td>\n",
       "    </tr>\n",
       "    <tr>\n",
       "      <th>4</th>\n",
       "      <td>NaN</td>\n",
       "      <td>NaN</td>\n",
       "      <td>NaN</td>\n",
       "      <td>NaN</td>\n",
       "      <td>NaN</td>\n",
       "      <td>NaN</td>\n",
       "      <td>NaN</td>\n",
       "      <td>NaN</td>\n",
       "    </tr>\n",
       "    <tr>\n",
       "      <th>...</th>\n",
       "      <td>...</td>\n",
       "      <td>...</td>\n",
       "      <td>...</td>\n",
       "      <td>...</td>\n",
       "      <td>...</td>\n",
       "      <td>...</td>\n",
       "      <td>...</td>\n",
       "      <td>...</td>\n",
       "    </tr>\n",
       "    <tr>\n",
       "      <th>999995</th>\n",
       "      <td>JOB1362685407682</td>\n",
       "      <td>COMP56</td>\n",
       "      <td>VICE_PRESIDENT</td>\n",
       "      <td>BACHELORS</td>\n",
       "      <td>CHEMISTRY</td>\n",
       "      <td>HEALTH</td>\n",
       "      <td>19.0</td>\n",
       "      <td>94.0</td>\n",
       "    </tr>\n",
       "    <tr>\n",
       "      <th>999996</th>\n",
       "      <td>JOB1362685407683</td>\n",
       "      <td>COMP24</td>\n",
       "      <td>CTO</td>\n",
       "      <td>HIGH_SCHOOL</td>\n",
       "      <td>NONE</td>\n",
       "      <td>FINANCE</td>\n",
       "      <td>12.0</td>\n",
       "      <td>35.0</td>\n",
       "    </tr>\n",
       "    <tr>\n",
       "      <th>999997</th>\n",
       "      <td>JOB1362685407684</td>\n",
       "      <td>COMP23</td>\n",
       "      <td>JUNIOR</td>\n",
       "      <td>HIGH_SCHOOL</td>\n",
       "      <td>NONE</td>\n",
       "      <td>EDUCATION</td>\n",
       "      <td>16.0</td>\n",
       "      <td>81.0</td>\n",
       "    </tr>\n",
       "    <tr>\n",
       "      <th>999998</th>\n",
       "      <td>JOB1362685407685</td>\n",
       "      <td>COMP3</td>\n",
       "      <td>CFO</td>\n",
       "      <td>MASTERS</td>\n",
       "      <td>NONE</td>\n",
       "      <td>HEALTH</td>\n",
       "      <td>6.0</td>\n",
       "      <td>5.0</td>\n",
       "    </tr>\n",
       "    <tr>\n",
       "      <th>999999</th>\n",
       "      <td>JOB1362685407686</td>\n",
       "      <td>COMP59</td>\n",
       "      <td>JUNIOR</td>\n",
       "      <td>BACHELORS</td>\n",
       "      <td>NONE</td>\n",
       "      <td>EDUCATION</td>\n",
       "      <td>20.0</td>\n",
       "      <td>11.0</td>\n",
       "    </tr>\n",
       "  </tbody>\n",
       "</table>\n",
       "<p>1000000 rows × 8 columns</p>\n",
       "</div>"
      ],
      "text/plain": [
       "                   jobId companyId         jobRole    education      major  \\\n",
       "0       JOB1362684407687    COMP37             CFO      MASTERS       MATH   \n",
       "1       JOB1362684407688    COMP19             CEO  HIGH_SCHOOL       NONE   \n",
       "2                    NaN       NaN             NaN          NaN        NaN   \n",
       "3                    NaN       NaN             NaN          NaN        NaN   \n",
       "4                    NaN       NaN             NaN          NaN        NaN   \n",
       "...                  ...       ...             ...          ...        ...   \n",
       "999995  JOB1362685407682    COMP56  VICE_PRESIDENT    BACHELORS  CHEMISTRY   \n",
       "999996  JOB1362685407683    COMP24             CTO  HIGH_SCHOOL       NONE   \n",
       "999997  JOB1362685407684    COMP23          JUNIOR  HIGH_SCHOOL       NONE   \n",
       "999998  JOB1362685407685     COMP3             CFO      MASTERS       NONE   \n",
       "999999  JOB1362685407686    COMP59          JUNIOR    BACHELORS       NONE   \n",
       "\n",
       "         industry  yearsExperience  distanceFromCBD  \n",
       "0          HEALTH             10.0             83.0  \n",
       "1             WEB              3.0             73.0  \n",
       "2             NaN              NaN              NaN  \n",
       "3             NaN              NaN              NaN  \n",
       "4             NaN              NaN              NaN  \n",
       "...           ...              ...              ...  \n",
       "999995     HEALTH             19.0             94.0  \n",
       "999996    FINANCE             12.0             35.0  \n",
       "999997  EDUCATION             16.0             81.0  \n",
       "999998     HEALTH              6.0              5.0  \n",
       "999999  EDUCATION             20.0             11.0  \n",
       "\n",
       "[1000000 rows x 8 columns]"
      ]
     },
     "execution_count": 35,
     "metadata": {},
     "output_type": "execute_result"
    }
   ],
   "source": [
    "employee_df = pd.read_csv(os.path.join(cwd, 'Employee_dataset.csv'))\n",
    "\n",
    "employee_df"
   ]
  },
  {
   "cell_type": "code",
   "execution_count": 36,
   "id": "9ee64625",
   "metadata": {},
   "outputs": [
    {
     "data": {
      "text/html": [
       "<div>\n",
       "<style scoped>\n",
       "    .dataframe tbody tr th:only-of-type {\n",
       "        vertical-align: middle;\n",
       "    }\n",
       "\n",
       "    .dataframe tbody tr th {\n",
       "        vertical-align: top;\n",
       "    }\n",
       "\n",
       "    .dataframe thead th {\n",
       "        text-align: right;\n",
       "    }\n",
       "</style>\n",
       "<table border=\"1\" class=\"dataframe\">\n",
       "  <thead>\n",
       "    <tr style=\"text-align: right;\">\n",
       "      <th></th>\n",
       "      <th>jobId</th>\n",
       "      <th>salaryInThousands</th>\n",
       "    </tr>\n",
       "  </thead>\n",
       "  <tbody>\n",
       "    <tr>\n",
       "      <th>0</th>\n",
       "      <td>JOB1362684407687</td>\n",
       "      <td>130.0</td>\n",
       "    </tr>\n",
       "    <tr>\n",
       "      <th>1</th>\n",
       "      <td>JOB1362684407688</td>\n",
       "      <td>101.0</td>\n",
       "    </tr>\n",
       "    <tr>\n",
       "      <th>2</th>\n",
       "      <td>JOB1362684407689</td>\n",
       "      <td>137.0</td>\n",
       "    </tr>\n",
       "    <tr>\n",
       "      <th>3</th>\n",
       "      <td>JOB1362684407690</td>\n",
       "      <td>142.0</td>\n",
       "    </tr>\n",
       "    <tr>\n",
       "      <th>4</th>\n",
       "      <td>JOB1362684407691</td>\n",
       "      <td>163.0</td>\n",
       "    </tr>\n",
       "    <tr>\n",
       "      <th>...</th>\n",
       "      <td>...</td>\n",
       "      <td>...</td>\n",
       "    </tr>\n",
       "    <tr>\n",
       "      <th>999995</th>\n",
       "      <td>JOB1362685407682</td>\n",
       "      <td>88.0</td>\n",
       "    </tr>\n",
       "    <tr>\n",
       "      <th>999996</th>\n",
       "      <td>JOB1362685407683</td>\n",
       "      <td>160.0</td>\n",
       "    </tr>\n",
       "    <tr>\n",
       "      <th>999997</th>\n",
       "      <td>JOB1362685407684</td>\n",
       "      <td>64.0</td>\n",
       "    </tr>\n",
       "    <tr>\n",
       "      <th>999998</th>\n",
       "      <td>JOB1362685407685</td>\n",
       "      <td>149.0</td>\n",
       "    </tr>\n",
       "    <tr>\n",
       "      <th>999999</th>\n",
       "      <td>JOB1362685407686</td>\n",
       "      <td>88.0</td>\n",
       "    </tr>\n",
       "  </tbody>\n",
       "</table>\n",
       "<p>1000000 rows × 2 columns</p>\n",
       "</div>"
      ],
      "text/plain": [
       "                   jobId  salaryInThousands\n",
       "0       JOB1362684407687              130.0\n",
       "1       JOB1362684407688              101.0\n",
       "2       JOB1362684407689              137.0\n",
       "3       JOB1362684407690              142.0\n",
       "4       JOB1362684407691              163.0\n",
       "...                  ...                ...\n",
       "999995  JOB1362685407682               88.0\n",
       "999996  JOB1362685407683              160.0\n",
       "999997  JOB1362685407684               64.0\n",
       "999998  JOB1362685407685              149.0\n",
       "999999  JOB1362685407686               88.0\n",
       "\n",
       "[1000000 rows x 2 columns]"
      ]
     },
     "execution_count": 36,
     "metadata": {},
     "output_type": "execute_result"
    }
   ],
   "source": [
    "employee_salary = pd.read_csv(os.path.join(cwd, 'Employee_salaries.csv'))\n",
    "\n",
    "employee_salary"
   ]
  },
  {
   "cell_type": "markdown",
   "id": "96730eff",
   "metadata": {},
   "source": [
    "`jobId` column is the same for both the datasets, and since the overall objective of the model is to predict the salary, we will merge these two datasets together to create a master_dataset where we can then perform Data Cleaning "
   ]
  },
  {
   "cell_type": "code",
   "execution_count": 37,
   "id": "b4d5dc4c",
   "metadata": {},
   "outputs": [
    {
     "data": {
      "text/html": [
       "<div>\n",
       "<style scoped>\n",
       "    .dataframe tbody tr th:only-of-type {\n",
       "        vertical-align: middle;\n",
       "    }\n",
       "\n",
       "    .dataframe tbody tr th {\n",
       "        vertical-align: top;\n",
       "    }\n",
       "\n",
       "    .dataframe thead th {\n",
       "        text-align: right;\n",
       "    }\n",
       "</style>\n",
       "<table border=\"1\" class=\"dataframe\">\n",
       "  <thead>\n",
       "    <tr style=\"text-align: right;\">\n",
       "      <th></th>\n",
       "      <th>jobId</th>\n",
       "      <th>companyId</th>\n",
       "      <th>jobRole</th>\n",
       "      <th>education</th>\n",
       "      <th>major</th>\n",
       "      <th>industry</th>\n",
       "      <th>yearsExperience</th>\n",
       "      <th>distanceFromCBD</th>\n",
       "      <th>salaryInThousands</th>\n",
       "    </tr>\n",
       "  </thead>\n",
       "  <tbody>\n",
       "    <tr>\n",
       "      <th>0</th>\n",
       "      <td>JOB1362684407687</td>\n",
       "      <td>COMP37</td>\n",
       "      <td>CFO</td>\n",
       "      <td>MASTERS</td>\n",
       "      <td>MATH</td>\n",
       "      <td>HEALTH</td>\n",
       "      <td>10.0</td>\n",
       "      <td>83.0</td>\n",
       "      <td>130.0</td>\n",
       "    </tr>\n",
       "    <tr>\n",
       "      <th>1</th>\n",
       "      <td>JOB1362684407688</td>\n",
       "      <td>COMP19</td>\n",
       "      <td>CEO</td>\n",
       "      <td>HIGH_SCHOOL</td>\n",
       "      <td>NONE</td>\n",
       "      <td>WEB</td>\n",
       "      <td>3.0</td>\n",
       "      <td>73.0</td>\n",
       "      <td>101.0</td>\n",
       "    </tr>\n",
       "    <tr>\n",
       "      <th>2</th>\n",
       "      <td>NaN</td>\n",
       "      <td>NaN</td>\n",
       "      <td>NaN</td>\n",
       "      <td>NaN</td>\n",
       "      <td>NaN</td>\n",
       "      <td>NaN</td>\n",
       "      <td>NaN</td>\n",
       "      <td>NaN</td>\n",
       "      <td>NaN</td>\n",
       "    </tr>\n",
       "    <tr>\n",
       "      <th>3</th>\n",
       "      <td>NaN</td>\n",
       "      <td>NaN</td>\n",
       "      <td>NaN</td>\n",
       "      <td>NaN</td>\n",
       "      <td>NaN</td>\n",
       "      <td>NaN</td>\n",
       "      <td>NaN</td>\n",
       "      <td>NaN</td>\n",
       "      <td>NaN</td>\n",
       "    </tr>\n",
       "    <tr>\n",
       "      <th>4</th>\n",
       "      <td>NaN</td>\n",
       "      <td>NaN</td>\n",
       "      <td>NaN</td>\n",
       "      <td>NaN</td>\n",
       "      <td>NaN</td>\n",
       "      <td>NaN</td>\n",
       "      <td>NaN</td>\n",
       "      <td>NaN</td>\n",
       "      <td>NaN</td>\n",
       "    </tr>\n",
       "    <tr>\n",
       "      <th>...</th>\n",
       "      <td>...</td>\n",
       "      <td>...</td>\n",
       "      <td>...</td>\n",
       "      <td>...</td>\n",
       "      <td>...</td>\n",
       "      <td>...</td>\n",
       "      <td>...</td>\n",
       "      <td>...</td>\n",
       "      <td>...</td>\n",
       "    </tr>\n",
       "    <tr>\n",
       "      <th>1023086</th>\n",
       "      <td>JOB1362685407682</td>\n",
       "      <td>COMP56</td>\n",
       "      <td>VICE_PRESIDENT</td>\n",
       "      <td>BACHELORS</td>\n",
       "      <td>CHEMISTRY</td>\n",
       "      <td>HEALTH</td>\n",
       "      <td>19.0</td>\n",
       "      <td>94.0</td>\n",
       "      <td>88.0</td>\n",
       "    </tr>\n",
       "    <tr>\n",
       "      <th>1023087</th>\n",
       "      <td>JOB1362685407683</td>\n",
       "      <td>COMP24</td>\n",
       "      <td>CTO</td>\n",
       "      <td>HIGH_SCHOOL</td>\n",
       "      <td>NONE</td>\n",
       "      <td>FINANCE</td>\n",
       "      <td>12.0</td>\n",
       "      <td>35.0</td>\n",
       "      <td>160.0</td>\n",
       "    </tr>\n",
       "    <tr>\n",
       "      <th>1023088</th>\n",
       "      <td>JOB1362685407684</td>\n",
       "      <td>COMP23</td>\n",
       "      <td>JUNIOR</td>\n",
       "      <td>HIGH_SCHOOL</td>\n",
       "      <td>NONE</td>\n",
       "      <td>EDUCATION</td>\n",
       "      <td>16.0</td>\n",
       "      <td>81.0</td>\n",
       "      <td>64.0</td>\n",
       "    </tr>\n",
       "    <tr>\n",
       "      <th>1023089</th>\n",
       "      <td>JOB1362685407685</td>\n",
       "      <td>COMP3</td>\n",
       "      <td>CFO</td>\n",
       "      <td>MASTERS</td>\n",
       "      <td>NONE</td>\n",
       "      <td>HEALTH</td>\n",
       "      <td>6.0</td>\n",
       "      <td>5.0</td>\n",
       "      <td>149.0</td>\n",
       "    </tr>\n",
       "    <tr>\n",
       "      <th>1023090</th>\n",
       "      <td>JOB1362685407686</td>\n",
       "      <td>COMP59</td>\n",
       "      <td>JUNIOR</td>\n",
       "      <td>BACHELORS</td>\n",
       "      <td>NONE</td>\n",
       "      <td>EDUCATION</td>\n",
       "      <td>20.0</td>\n",
       "      <td>11.0</td>\n",
       "      <td>88.0</td>\n",
       "    </tr>\n",
       "  </tbody>\n",
       "</table>\n",
       "<p>1023091 rows × 9 columns</p>\n",
       "</div>"
      ],
      "text/plain": [
       "                    jobId companyId         jobRole    education      major  \\\n",
       "0        JOB1362684407687    COMP37             CFO      MASTERS       MATH   \n",
       "1        JOB1362684407688    COMP19             CEO  HIGH_SCHOOL       NONE   \n",
       "2                     NaN       NaN             NaN          NaN        NaN   \n",
       "3                     NaN       NaN             NaN          NaN        NaN   \n",
       "4                     NaN       NaN             NaN          NaN        NaN   \n",
       "...                   ...       ...             ...          ...        ...   \n",
       "1023086  JOB1362685407682    COMP56  VICE_PRESIDENT    BACHELORS  CHEMISTRY   \n",
       "1023087  JOB1362685407683    COMP24             CTO  HIGH_SCHOOL       NONE   \n",
       "1023088  JOB1362685407684    COMP23          JUNIOR  HIGH_SCHOOL       NONE   \n",
       "1023089  JOB1362685407685     COMP3             CFO      MASTERS       NONE   \n",
       "1023090  JOB1362685407686    COMP59          JUNIOR    BACHELORS       NONE   \n",
       "\n",
       "          industry  yearsExperience  distanceFromCBD  salaryInThousands  \n",
       "0           HEALTH             10.0             83.0              130.0  \n",
       "1              WEB              3.0             73.0              101.0  \n",
       "2              NaN              NaN              NaN                NaN  \n",
       "3              NaN              NaN              NaN                NaN  \n",
       "4              NaN              NaN              NaN                NaN  \n",
       "...            ...              ...              ...                ...  \n",
       "1023086     HEALTH             19.0             94.0               88.0  \n",
       "1023087    FINANCE             12.0             35.0              160.0  \n",
       "1023088  EDUCATION             16.0             81.0               64.0  \n",
       "1023089     HEALTH              6.0              5.0              149.0  \n",
       "1023090  EDUCATION             20.0             11.0               88.0  \n",
       "\n",
       "[1023091 rows x 9 columns]"
      ]
     },
     "execution_count": 37,
     "metadata": {},
     "output_type": "execute_result"
    }
   ],
   "source": [
    "master_dataset = pd.merge(employee_df, employee_salary, on='jobId', how='inner') # use inner to keep only rows with matching jobId in both datasets\n",
    "\n",
    "master_dataset"
   ]
  },
  {
   "cell_type": "markdown",
   "id": "55ceb3cc",
   "metadata": {},
   "source": [
    "## Data Cleaning "
   ]
  },
  {
   "cell_type": "markdown",
   "id": "27f132ae",
   "metadata": {},
   "source": [
    "### Check for Missing Values and Duplicated"
   ]
  },
  {
   "cell_type": "code",
   "execution_count": 38,
   "id": "b6aca7ed",
   "metadata": {},
   "outputs": [
    {
     "name": "stdout",
     "output_type": "stream",
     "text": [
      "Missing values in each column:\n",
      " jobId                23415\n",
      "companyId            23236\n",
      "jobRole              18813\n",
      "education            18168\n",
      "major                17079\n",
      "industry             15754\n",
      "yearsExperience      14184\n",
      "distanceFromCBD      13042\n",
      "salaryInThousands    23421\n",
      "dtype: int64\n",
      "\n",
      "\n",
      "Total missing values in the dataset: 167112\n"
     ]
    }
   ],
   "source": [
    "# check for missing values \n",
    "\n",
    "master_nan = master_dataset.isnull().sum()\n",
    "\n",
    "print(\"Missing values in each column:\\n\", master_nan)\n",
    "print(\"\\n\")\n",
    "print(\"Total missing values in the dataset:\",master_nan.sum())"
   ]
  },
  {
   "cell_type": "code",
   "execution_count": 39,
   "id": "3dbd40f2",
   "metadata": {},
   "outputs": [
    {
     "name": "stdout",
     "output_type": "stream",
     "text": [
      "Percentage of missing values: \n",
      " jobId                0.254295\n",
      "companyId            0.252351\n",
      "jobRole              0.204315\n",
      "education            0.197311\n",
      "major                0.185484\n",
      "industry             0.171094\n",
      "yearsExperience      0.154043\n",
      "distanceFromCBD      0.141640\n",
      "salaryInThousands    0.254360\n",
      "dtype: float64\n"
     ]
    }
   ],
   "source": [
    "# calculate percentage of missing values in correlation to whole df \n",
    "\n",
    "percentage = (master_nan / master_dataset.size) * 100\n",
    "print(\"Percentage of missing values: \\n\", percentage)"
   ]
  },
  {
   "cell_type": "markdown",
   "id": "956d74a9",
   "metadata": {},
   "source": [
    "Since the percentages amount to almost lesser than 2%, dropping these rows will not cause any major data loss and will still uphold data integrity pretty well."
   ]
  },
  {
   "cell_type": "code",
   "execution_count": 40,
   "id": "ca5a0005",
   "metadata": {},
   "outputs": [
    {
     "name": "stdout",
     "output_type": "stream",
     "text": [
      "Missing values after dropping:\n",
      " jobId                0\n",
      "companyId            0\n",
      "jobRole              0\n",
      "education            0\n",
      "major                0\n",
      "industry             0\n",
      "yearsExperience      0\n",
      "distanceFromCBD      0\n",
      "salaryInThousands    0\n",
      "dtype: int64\n",
      "\n",
      "\n",
      "New Size of the dataset: (999474, 9)\n"
     ]
    }
   ],
   "source": [
    "# remove missing values in master dataset\n",
    "\n",
    "master_dataset = master_dataset.dropna()\n",
    "print(\"Missing values after dropping:\\n\", master_dataset.isnull().sum())\n",
    "print(\"\\n\")\n",
    "print(\"New Size of the dataset:\", master_dataset.shape)"
   ]
  },
  {
   "cell_type": "code",
   "execution_count": 41,
   "id": "67c78df6",
   "metadata": {},
   "outputs": [
    {
     "name": "stdout",
     "output_type": "stream",
     "text": [
      "New Size of the dataset: 8995266\n"
     ]
    }
   ],
   "source": [
    "print(\"New Size of the dataset:\", master_dataset.size)"
   ]
  },
  {
   "cell_type": "code",
   "execution_count": 42,
   "id": "50671206",
   "metadata": {},
   "outputs": [
    {
     "name": "stdout",
     "output_type": "stream",
     "text": [
      "Sum of Duplicated values in the dataset: 0\n"
     ]
    }
   ],
   "source": [
    "# checking for duplicated values \n",
    "\n",
    "print(f\"Sum of Duplicated values in the dataset: {master_dataset.duplicated().sum().sum()}\")"
   ]
  },
  {
   "cell_type": "markdown",
   "id": "5aac1058",
   "metadata": {},
   "source": [
    "confirms that there is no need to remove any duplicated values as there is none."
   ]
  },
  {
   "cell_type": "code",
   "execution_count": 43,
   "id": "09177ad3",
   "metadata": {},
   "outputs": [
    {
     "name": "stdout",
     "output_type": "stream",
     "text": [
      "Cleaned master dataset saved as 'cleaned_master_dataset.csv' in the current working directory.\n"
     ]
    }
   ],
   "source": [
    "master_dataset.to_csv(os.path.join(cwd, 'cleaned_master_dataset.csv'), index=False)\n",
    "\n",
    "print(\"Cleaned master dataset saved as 'cleaned_master_dataset.csv' in the current working directory.\")"
   ]
  },
  {
   "cell_type": "markdown",
   "id": "28c84df2",
   "metadata": {},
   "source": [
    "### Printing Executive Summary of the master dataset to hone in Data Cleaning"
   ]
  },
  {
   "cell_type": "code",
   "execution_count": 44,
   "id": "634cc595",
   "metadata": {},
   "outputs": [
    {
     "data": {
      "text/html": [
       "<div>\n",
       "<style scoped>\n",
       "    .dataframe tbody tr th:only-of-type {\n",
       "        vertical-align: middle;\n",
       "    }\n",
       "\n",
       "    .dataframe tbody tr th {\n",
       "        vertical-align: top;\n",
       "    }\n",
       "\n",
       "    .dataframe thead th {\n",
       "        text-align: right;\n",
       "    }\n",
       "</style>\n",
       "<table border=\"1\" class=\"dataframe\">\n",
       "  <thead>\n",
       "    <tr style=\"text-align: right;\">\n",
       "      <th></th>\n",
       "      <th>column</th>\n",
       "      <th>num_unique</th>\n",
       "      <th>example_values</th>\n",
       "    </tr>\n",
       "  </thead>\n",
       "  <tbody>\n",
       "    <tr>\n",
       "      <th>0</th>\n",
       "      <td>jobId</td>\n",
       "      <td>999474</td>\n",
       "      <td>[JOB1362684407687, JOB1362684407688, JOB136268...</td>\n",
       "    </tr>\n",
       "    <tr>\n",
       "      <th>1</th>\n",
       "      <td>companyId</td>\n",
       "      <td>63</td>\n",
       "      <td>[COMP37, COMP19, COMP56, COMP7, COMP4, COMP54,...</td>\n",
       "    </tr>\n",
       "    <tr>\n",
       "      <th>2</th>\n",
       "      <td>jobRole</td>\n",
       "      <td>9</td>\n",
       "      <td>[CFO, CEO, JANITOR, JUNIOR, CTO, VICE_PRESIDEN...</td>\n",
       "    </tr>\n",
       "    <tr>\n",
       "      <th>3</th>\n",
       "      <td>education</td>\n",
       "      <td>5</td>\n",
       "      <td>[MASTERS, HIGH_SCHOOL, NONE, BACHELORS, DOCTORAL]</td>\n",
       "    </tr>\n",
       "    <tr>\n",
       "      <th>4</th>\n",
       "      <td>major</td>\n",
       "      <td>9</td>\n",
       "      <td>[MATH, NONE, PHYSICS, BIOLOGY, LITERATURE, CHE...</td>\n",
       "    </tr>\n",
       "    <tr>\n",
       "      <th>5</th>\n",
       "      <td>industry</td>\n",
       "      <td>8</td>\n",
       "      <td>[HEALTH, WEB, EDUCATION, OIL, FINANCE, AUTO, S...</td>\n",
       "    </tr>\n",
       "    <tr>\n",
       "      <th>6</th>\n",
       "      <td>yearsExperience</td>\n",
       "      <td>25</td>\n",
       "      <td>[10.0, 3.0, 24.0, 7.0, 8.0, 21.0, 13.0, 1.0, 2...</td>\n",
       "    </tr>\n",
       "    <tr>\n",
       "      <th>7</th>\n",
       "      <td>distanceFromCBD</td>\n",
       "      <td>102</td>\n",
       "      <td>[83.0, 73.0, 30.0, 79.0, 29.0, 26.0, 81.0, 8.0...</td>\n",
       "    </tr>\n",
       "    <tr>\n",
       "      <th>8</th>\n",
       "      <td>salaryInThousands</td>\n",
       "      <td>281</td>\n",
       "      <td>[130.0, 101.0, 102.0, 144.0, 79.0, 193.0, 47.0...</td>\n",
       "    </tr>\n",
       "  </tbody>\n",
       "</table>\n",
       "</div>"
      ],
      "text/plain": [
       "              column  num_unique  \\\n",
       "0              jobId      999474   \n",
       "1          companyId          63   \n",
       "2            jobRole           9   \n",
       "3          education           5   \n",
       "4              major           9   \n",
       "5           industry           8   \n",
       "6    yearsExperience          25   \n",
       "7    distanceFromCBD         102   \n",
       "8  salaryInThousands         281   \n",
       "\n",
       "                                      example_values  \n",
       "0  [JOB1362684407687, JOB1362684407688, JOB136268...  \n",
       "1  [COMP37, COMP19, COMP56, COMP7, COMP4, COMP54,...  \n",
       "2  [CFO, CEO, JANITOR, JUNIOR, CTO, VICE_PRESIDEN...  \n",
       "3  [MASTERS, HIGH_SCHOOL, NONE, BACHELORS, DOCTORAL]  \n",
       "4  [MATH, NONE, PHYSICS, BIOLOGY, LITERATURE, CHE...  \n",
       "5  [HEALTH, WEB, EDUCATION, OIL, FINANCE, AUTO, S...  \n",
       "6  [10.0, 3.0, 24.0, 7.0, 8.0, 21.0, 13.0, 1.0, 2...  \n",
       "7  [83.0, 73.0, 30.0, 79.0, 29.0, 26.0, 81.0, 8.0...  \n",
       "8  [130.0, 101.0, 102.0, 144.0, 79.0, 193.0, 47.0...  "
      ]
     },
     "execution_count": 44,
     "metadata": {},
     "output_type": "execute_result"
    }
   ],
   "source": [
    "# print unique summary for master dataset\n",
    "executive_summary = pd.DataFrame({\n",
    "    \"column\": master_dataset.columns,\n",
    "    \"num_unique\": [master_dataset[c].nunique(dropna=False) for c in master_dataset.columns],\n",
    "    \"example_values\": [master_dataset[c].unique()[:10] for c in master_dataset.columns]  # Show first 10 unique values\n",
    "})\n",
    "executive_summary"
   ]
  },
  {
   "cell_type": "markdown",
   "id": "85e1c122",
   "metadata": {},
   "source": [
    "Hone even deeper into the categorical columns, and see if they have any outliers, or any structural errors"
   ]
  },
  {
   "cell_type": "markdown",
   "id": "c5c9abae",
   "metadata": {},
   "source": [
    "### Categorical Column Cleaning"
   ]
  },
  {
   "cell_type": "code",
   "execution_count": 45,
   "id": "f7907aec",
   "metadata": {},
   "outputs": [
    {
     "name": "stdout",
     "output_type": "stream",
     "text": [
      "Unique Values for jobRole In master dataset:\n",
      "['CFO', 'CEO', 'JANITOR', 'JUNIOR', 'CTO', 'VICE_PRESIDENT', 'SENIOR', 'MANAGER', 'PRESIDENT']\n",
      "Count: 9\n",
      "\n",
      "\n",
      "Unique Values for education In master dataset:\n",
      "['MASTERS', 'HIGH_SCHOOL', 'NONE', 'BACHELORS', 'DOCTORAL']\n",
      "Count: 5\n",
      "\n",
      "\n",
      "Unique Values for major In master dataset:\n",
      "['MATH', 'NONE', 'PHYSICS', 'BIOLOGY', 'LITERATURE', 'CHEMISTRY', 'COMPSCI', 'BUSINESS', 'ENGINEERING']\n",
      "Count: 9\n",
      "\n",
      "\n",
      "Unique Values for industry In master dataset:\n",
      "['HEALTH', 'WEB', 'EDUCATION', 'OIL', 'FINANCE', 'AUTO', 'SERVICE', 'GOVERNMENT']\n",
      "Count: 8\n",
      "\n",
      "\n"
     ]
    }
   ],
   "source": [
    "categorical_columns = [\"jobRole\", \"education\", \"major\", \"industry\"]\n",
    "\n",
    "for columns in categorical_columns: \n",
    "    print(f\"Unique Values for {columns} In master dataset:\")\n",
    "    print(master_dataset[columns].unique().tolist())\n",
    "    # print(\"\\n\")\n",
    "    print(\"Count:\", master_dataset[columns].nunique())\n",
    "    print(\"\\n\")"
   ]
  },
  {
   "cell_type": "markdown",
   "id": "7a49cf6a",
   "metadata": {},
   "source": [
    "#### Further Analysis on \"NONE\" values"
   ]
  },
  {
   "cell_type": "code",
   "execution_count": 46,
   "id": "96c80f24",
   "metadata": {},
   "outputs": [
    {
     "name": "stdout",
     "output_type": "stream",
     "text": [
      "Rows with 'NONE' in major: 532061\n",
      "Rows with 'NONE' in education: 236715\n"
     ]
    }
   ],
   "source": [
    "print(\"Rows with 'NONE' in major:\", (master_dataset['major'] == 'NONE').sum())\n",
    "print(\"Rows with 'NONE' in education:\", (master_dataset['education'] == 'NONE').sum())\n"
   ]
  },
  {
   "cell_type": "code",
   "execution_count": 47,
   "id": "51133dbb",
   "metadata": {},
   "outputs": [
    {
     "name": "stdout",
     "output_type": "stream",
     "text": [
      "jobRole\n",
      "JANITOR           124908\n",
      "VICE_PRESIDENT     58428\n",
      "SENIOR             58344\n",
      "MANAGER            58262\n",
      "CTO                58134\n",
      "JUNIOR             58096\n",
      "CEO                57983\n",
      "CFO                57905\n",
      "PRESIDENT              1\n",
      "Name: count, dtype: int64\n"
     ]
    }
   ],
   "source": [
    "print(master_dataset[master_dataset['major'] == 'NONE']['jobRole'].value_counts())\n"
   ]
  },
  {
   "cell_type": "code",
   "execution_count": 48,
   "id": "e68cc5bb",
   "metadata": {},
   "outputs": [
    {
     "data": {
      "image/png": "[encoded data removed]",
      "text/plain": [
       "<Figure size 640x480 with 1 Axes>"
      ]
     },
     "metadata": {},
     "output_type": "display_data"
    }
   ],
   "source": [
    "import matplotlib.pyplot as plt\n",
    "import seaborn as sns\n",
    "\n",
    "sns.boxplot(x=(master_dataset['major'] == 'NONE'), y='salaryInThousands', data=master_dataset)\n",
    "plt.title(\"Salary for 'NONE' major vs. Others\")\n",
    "plt.xticks([0,1], ['Has Major', 'NONE'])\n",
    "plt.show()\n"
   ]
  },
  {
   "cell_type": "markdown",
   "id": "2560d4ac",
   "metadata": {},
   "source": [
    "\"NONE\" is not a valid category, and having this might not lead us to proper EDA and modelling, therefore, we will treat \"NONE\" as missing value"
   ]
  },
  {
   "cell_type": "code",
   "execution_count": 49,
   "id": "a6c00901",
   "metadata": {},
   "outputs": [
    {
     "name": "stderr",
     "output_type": "stream",
     "text": [
      "/var/folders/wv/lgt7rwvx5dn_v1y74zftwswh0000gn/T/ipykernel_26393/3592561304.py:2: SettingWithCopyWarning: \n",
      "A value is trying to be set on a copy of a slice from a DataFrame.\n",
      "Try using .loc[row_indexer,col_indexer] = value instead\n",
      "\n",
      "See the caveats in the documentation: https://pandas.pydata.org/pandas-docs/stable/user_guide/indexing.html#returning-a-view-versus-a-copy\n",
      "  master_dataset['major'] = master_dataset['major'].replace('NONE', np.nan)\n",
      "/var/folders/wv/lgt7rwvx5dn_v1y74zftwswh0000gn/T/ipykernel_26393/3592561304.py:3: SettingWithCopyWarning: \n",
      "A value is trying to be set on a copy of a slice from a DataFrame.\n",
      "Try using .loc[row_indexer,col_indexer] = value instead\n",
      "\n",
      "See the caveats in the documentation: https://pandas.pydata.org/pandas-docs/stable/user_guide/indexing.html#returning-a-view-versus-a-copy\n",
      "  master_dataset['education'] = master_dataset['education'].replace('NONE', np.nan)\n"
     ]
    }
   ],
   "source": [
    "import numpy as np\n",
    "master_dataset['major'] = master_dataset['major'].replace('NONE', np.nan)\n",
    "master_dataset['education'] = master_dataset['education'].replace('NONE', np.nan)\n"
   ]
  },
  {
   "cell_type": "code",
   "execution_count": 50,
   "id": "410c9ccf",
   "metadata": {},
   "outputs": [
    {
     "name": "stdout",
     "output_type": "stream",
     "text": [
      "Missing Value after NaN imputation:\n",
      " jobId                     0\n",
      "companyId                 0\n",
      "jobRole                   0\n",
      "education            236715\n",
      "major                532061\n",
      "industry                  0\n",
      "yearsExperience           0\n",
      "distanceFromCBD           0\n",
      "salaryInThousands         0\n",
      "dtype: int64\n"
     ]
    }
   ],
   "source": [
    "print(\"Missing Value after NaN imputation:\\n\",master_dataset.isnull().sum())"
   ]
  },
  {
   "cell_type": "code",
   "execution_count": 51,
   "id": "23097f5e",
   "metadata": {},
   "outputs": [
    {
     "name": "stdout",
     "output_type": "stream",
     "text": [
      "Rows dropped where both 'major' and 'education' are missing: 236715\n",
      "Rows remaining after drop: 762759\n"
     ]
    }
   ],
   "source": [
    "# --- 3. Drop rows where BOTH major AND education are missing ---\n",
    "rows_before = master_dataset.shape[0]\n",
    "\n",
    "master_dataset = master_dataset.dropna(subset=['major', 'education'], how='all')\n",
    "rows_after_drop = master_dataset.shape[0]\n",
    "\n",
    "print(f\"Rows dropped where both 'major' and 'education' are missing: {rows_before - rows_after_drop}\")\n",
    "print(\"Rows remaining after drop:\", rows_after_drop)"
   ]
  },
  {
   "cell_type": "code",
   "execution_count": 52,
   "id": "2979f9e9",
   "metadata": {},
   "outputs": [],
   "source": [
    "# --- 4. Impute (fill) any remaining missing with 'Unknown' ---\n",
    "master_dataset['major'] = master_dataset['major'].fillna('Unknown')\n",
    "master_dataset['education'] = master_dataset['education'].fillna('Unknown')"
   ]
  },
  {
   "cell_type": "code",
   "execution_count": 53,
   "id": "4a380d00",
   "metadata": {},
   "outputs": [
    {
     "name": "stdout",
     "output_type": "stream",
     "text": [
      "\n",
      "Missing values after cleaning:\n",
      "major        0\n",
      "education    0\n",
      "dtype: int64\n",
      "Final number of rows: 762759\n"
     ]
    }
   ],
   "source": [
    "# --- 5. Final check for missing values ---\n",
    "print(\"\\nMissing values after cleaning:\")\n",
    "print(master_dataset[['major', 'education']].isnull().sum())\n",
    "print(\"Final number of rows:\", master_dataset.shape[0])"
   ]
  },
  {
   "cell_type": "code",
   "execution_count": 54,
   "id": "ee3155d2",
   "metadata": {},
   "outputs": [
    {
     "name": "stdout",
     "output_type": "stream",
     "text": [
      "\n",
      "Value counts for 'major':\n",
      "major\n",
      "Unknown        295346\n",
      "CHEMISTRY       58841\n",
      "LITERATURE      58644\n",
      "ENGINEERING     58568\n",
      "BUSINESS        58498\n",
      "PHYSICS         58381\n",
      "COMPSCI         58352\n",
      "BIOLOGY         58351\n",
      "MATH            57778\n",
      "Name: count, dtype: int64\n",
      "\n",
      "Value counts for 'education':\n",
      "education\n",
      "HIGH_SCHOOL    236862\n",
      "BACHELORS      175405\n",
      "DOCTORAL       175271\n",
      "MASTERS        175221\n",
      "Name: count, dtype: int64\n"
     ]
    }
   ],
   "source": [
    "print(\"\\nValue counts for 'major':\")\n",
    "print(master_dataset['major'].value_counts())\n",
    "print(\"\\nValue counts for 'education':\")\n",
    "print(master_dataset['education'].value_counts())"
   ]
  },
  {
   "cell_type": "markdown",
   "id": "f49bdae6",
   "metadata": {},
   "source": [
    "The above few codes have resolved the \"NONE\" issues!"
   ]
  },
  {
   "cell_type": "markdown",
   "id": "fb6f18fe",
   "metadata": {},
   "source": [
    "### Standardisation"
   ]
  },
  {
   "cell_type": "code",
   "execution_count": 55,
   "id": "af05bbde",
   "metadata": {},
   "outputs": [],
   "source": [
    "for columns in categorical_columns: \n",
    "    master_dataset[columns] = master_dataset[columns].str.strip().str.lower()"
   ]
  },
  {
   "cell_type": "code",
   "execution_count": 56,
   "id": "588c4a33",
   "metadata": {},
   "outputs": [
    {
     "data": {
      "text/html": [
       "<div>\n",
       "<style scoped>\n",
       "    .dataframe tbody tr th:only-of-type {\n",
       "        vertical-align: middle;\n",
       "    }\n",
       "\n",
       "    .dataframe tbody tr th {\n",
       "        vertical-align: top;\n",
       "    }\n",
       "\n",
       "    .dataframe thead th {\n",
       "        text-align: right;\n",
       "    }\n",
       "</style>\n",
       "<table border=\"1\" class=\"dataframe\">\n",
       "  <thead>\n",
       "    <tr style=\"text-align: right;\">\n",
       "      <th></th>\n",
       "      <th>jobId</th>\n",
       "      <th>companyId</th>\n",
       "      <th>jobRole</th>\n",
       "      <th>education</th>\n",
       "      <th>major</th>\n",
       "      <th>industry</th>\n",
       "      <th>yearsExperience</th>\n",
       "      <th>distanceFromCBD</th>\n",
       "      <th>salaryInThousands</th>\n",
       "    </tr>\n",
       "  </thead>\n",
       "  <tbody>\n",
       "    <tr>\n",
       "      <th>0</th>\n",
       "      <td>JOB1362684407687</td>\n",
       "      <td>COMP37</td>\n",
       "      <td>cfo</td>\n",
       "      <td>masters</td>\n",
       "      <td>math</td>\n",
       "      <td>health</td>\n",
       "      <td>10.0</td>\n",
       "      <td>83.0</td>\n",
       "      <td>130.0</td>\n",
       "    </tr>\n",
       "    <tr>\n",
       "      <th>1</th>\n",
       "      <td>JOB1362684407688</td>\n",
       "      <td>COMP19</td>\n",
       "      <td>ceo</td>\n",
       "      <td>high_school</td>\n",
       "      <td>unknown</td>\n",
       "      <td>web</td>\n",
       "      <td>3.0</td>\n",
       "      <td>73.0</td>\n",
       "      <td>101.0</td>\n",
       "    </tr>\n",
       "    <tr>\n",
       "      <th>1786</th>\n",
       "      <td>JOB1362684407697</td>\n",
       "      <td>COMP56</td>\n",
       "      <td>janitor</td>\n",
       "      <td>high_school</td>\n",
       "      <td>unknown</td>\n",
       "      <td>health</td>\n",
       "      <td>24.0</td>\n",
       "      <td>30.0</td>\n",
       "      <td>102.0</td>\n",
       "    </tr>\n",
       "    <tr>\n",
       "      <th>1787</th>\n",
       "      <td>JOB1362684407698</td>\n",
       "      <td>COMP7</td>\n",
       "      <td>ceo</td>\n",
       "      <td>masters</td>\n",
       "      <td>physics</td>\n",
       "      <td>education</td>\n",
       "      <td>7.0</td>\n",
       "      <td>79.0</td>\n",
       "      <td>144.0</td>\n",
       "    </tr>\n",
       "    <tr>\n",
       "      <th>1789</th>\n",
       "      <td>JOB1362684407700</td>\n",
       "      <td>COMP54</td>\n",
       "      <td>junior</td>\n",
       "      <td>masters</td>\n",
       "      <td>math</td>\n",
       "      <td>finance</td>\n",
       "      <td>21.0</td>\n",
       "      <td>26.0</td>\n",
       "      <td>193.0</td>\n",
       "    </tr>\n",
       "    <tr>\n",
       "      <th>...</th>\n",
       "      <td>...</td>\n",
       "      <td>...</td>\n",
       "      <td>...</td>\n",
       "      <td>...</td>\n",
       "      <td>...</td>\n",
       "      <td>...</td>\n",
       "      <td>...</td>\n",
       "      <td>...</td>\n",
       "      <td>...</td>\n",
       "    </tr>\n",
       "    <tr>\n",
       "      <th>1023086</th>\n",
       "      <td>JOB1362685407682</td>\n",
       "      <td>COMP56</td>\n",
       "      <td>vice_president</td>\n",
       "      <td>bachelors</td>\n",
       "      <td>chemistry</td>\n",
       "      <td>health</td>\n",
       "      <td>19.0</td>\n",
       "      <td>94.0</td>\n",
       "      <td>88.0</td>\n",
       "    </tr>\n",
       "    <tr>\n",
       "      <th>1023087</th>\n",
       "      <td>JOB1362685407683</td>\n",
       "      <td>COMP24</td>\n",
       "      <td>cto</td>\n",
       "      <td>high_school</td>\n",
       "      <td>unknown</td>\n",
       "      <td>finance</td>\n",
       "      <td>12.0</td>\n",
       "      <td>35.0</td>\n",
       "      <td>160.0</td>\n",
       "    </tr>\n",
       "    <tr>\n",
       "      <th>1023088</th>\n",
       "      <td>JOB1362685407684</td>\n",
       "      <td>COMP23</td>\n",
       "      <td>junior</td>\n",
       "      <td>high_school</td>\n",
       "      <td>unknown</td>\n",
       "      <td>education</td>\n",
       "      <td>16.0</td>\n",
       "      <td>81.0</td>\n",
       "      <td>64.0</td>\n",
       "    </tr>\n",
       "    <tr>\n",
       "      <th>1023089</th>\n",
       "      <td>JOB1362685407685</td>\n",
       "      <td>COMP3</td>\n",
       "      <td>cfo</td>\n",
       "      <td>masters</td>\n",
       "      <td>unknown</td>\n",
       "      <td>health</td>\n",
       "      <td>6.0</td>\n",
       "      <td>5.0</td>\n",
       "      <td>149.0</td>\n",
       "    </tr>\n",
       "    <tr>\n",
       "      <th>1023090</th>\n",
       "      <td>JOB1362685407686</td>\n",
       "      <td>COMP59</td>\n",
       "      <td>junior</td>\n",
       "      <td>bachelors</td>\n",
       "      <td>unknown</td>\n",
       "      <td>education</td>\n",
       "      <td>20.0</td>\n",
       "      <td>11.0</td>\n",
       "      <td>88.0</td>\n",
       "    </tr>\n",
       "  </tbody>\n",
       "</table>\n",
       "<p>762759 rows × 9 columns</p>\n",
       "</div>"
      ],
      "text/plain": [
       "                    jobId companyId         jobRole    education      major  \\\n",
       "0        JOB1362684407687    COMP37             cfo      masters       math   \n",
       "1        JOB1362684407688    COMP19             ceo  high_school    unknown   \n",
       "1786     JOB1362684407697    COMP56         janitor  high_school    unknown   \n",
       "1787     JOB1362684407698     COMP7             ceo      masters    physics   \n",
       "1789     JOB1362684407700    COMP54          junior      masters       math   \n",
       "...                   ...       ...             ...          ...        ...   \n",
       "1023086  JOB1362685407682    COMP56  vice_president    bachelors  chemistry   \n",
       "1023087  JOB1362685407683    COMP24             cto  high_school    unknown   \n",
       "1023088  JOB1362685407684    COMP23          junior  high_school    unknown   \n",
       "1023089  JOB1362685407685     COMP3             cfo      masters    unknown   \n",
       "1023090  JOB1362685407686    COMP59          junior    bachelors    unknown   \n",
       "\n",
       "          industry  yearsExperience  distanceFromCBD  salaryInThousands  \n",
       "0           health             10.0             83.0              130.0  \n",
       "1              web              3.0             73.0              101.0  \n",
       "1786        health             24.0             30.0              102.0  \n",
       "1787     education              7.0             79.0              144.0  \n",
       "1789       finance             21.0             26.0              193.0  \n",
       "...            ...              ...              ...                ...  \n",
       "1023086     health             19.0             94.0               88.0  \n",
       "1023087    finance             12.0             35.0              160.0  \n",
       "1023088  education             16.0             81.0               64.0  \n",
       "1023089     health              6.0              5.0              149.0  \n",
       "1023090  education             20.0             11.0               88.0  \n",
       "\n",
       "[762759 rows x 9 columns]"
      ]
     },
     "execution_count": 56,
     "metadata": {},
     "output_type": "execute_result"
    }
   ],
   "source": [
    "master_dataset"
   ]
  },
  {
   "cell_type": "code",
   "execution_count": null,
   "id": "aa146607",
   "metadata": {},
   "outputs": [],
   "source": []
  },
  {
   "cell_type": "markdown",
   "id": "c2abd5fd",
   "metadata": {},
   "source": [
    "### Outliers"
   ]
  },
  {
   "cell_type": "code",
   "execution_count": 57,
   "id": "c4d8b7f5",
   "metadata": {},
   "outputs": [
    {
     "name": "stdout",
     "output_type": "stream",
     "text": [
      "\n",
      "yearsExperience:\n",
      "  Lower Bound: -12.00\n",
      "  Upper Bound: 36.00\n",
      "  # Outliers: 0 (0.00%)\n",
      "  Min: 0.0, Max: 24.0\n",
      "\n",
      "distanceFromCBD:\n",
      "  Lower Bound: -50.00\n",
      "  Upper Bound: 150.00\n",
      "  # Outliers: 2 (0.00%)\n",
      "  Min: 0.0, Max: 500.0\n",
      "\n",
      "salaryInThousands:\n",
      "  Lower Bound: 18.50\n",
      "  Upper Bound: 222.50\n",
      "  # Outliers: 6105 (0.80%)\n",
      "  Min: 0.0, Max: 10000000.0\n"
     ]
    }
   ],
   "source": [
    "numerical_columns = master_dataset.select_dtypes(include=[np.number]).columns.tolist()\n",
    "\n",
    "outlier_summmary = {}\n",
    "\n",
    "for column in numerical_columns:\n",
    "    Q1 = master_dataset[column].quantile(0.25)\n",
    "    Q3 = master_dataset[column].quantile(0.75)\n",
    "    IQR = Q3 - Q1\n",
    "    lower_bound = Q1 - 1.5 * IQR\n",
    "    upper_bound = Q3 + 1.5 * IQR\n",
    "\n",
    "    outliers = master_dataset[(master_dataset[column] < lower_bound) | (master_dataset[column] > upper_bound)]\n",
    "    number_of_outliers = outliers.shape[0]\n",
    "    percentage = (number_of_outliers / master_dataset.shape[0]) * 100\n",
    "    \n",
    "    outlier_summmary[column] = {\n",
    "        \"number_of_outliers\": number_of_outliers,\n",
    "        \"percentage\": percentage,\n",
    "        \"lower_bound\": lower_bound,\n",
    "        \"upper_bound\": upper_bound\n",
    "    }\n",
    "    print(f\"\\n{column}:\")\n",
    "    print(f\"  Lower Bound: {lower_bound:.2f}\")\n",
    "    print(f\"  Upper Bound: {upper_bound:.2f}\")\n",
    "    print(f\"  # Outliers: {number_of_outliers} ({percentage:.2f}%)\")\n",
    "    print(f\"  Min: {master_dataset[column].min()}, Max: {master_dataset[column].max()}\")\n",
    "\n",
    "    outlier_df = pd.DataFrame(outlier_summmary).T"
   ]
  },
  {
   "cell_type": "markdown",
   "id": "dff5e676",
   "metadata": {},
   "source": [
    "#### `distanceFromCBD` outlier analysis"
   ]
  },
  {
   "cell_type": "code",
   "execution_count": 58,
   "id": "3de1f3ee",
   "metadata": {},
   "outputs": [
    {
     "name": "stdout",
     "output_type": "stream",
     "text": [
      "Unique distances from CBD:\n",
      " [ 83.  73.  30.  79.  26.   8.  91.  43.  66.  99.  69.  70.  40.   6.\n",
      "  23.   9.   2.  32.  78.  14.  35.  17.  54.  93.  82.  87.  76.  22.\n",
      "  44.  81.  72.  63.  25.   5.  71.  65.  13.  33.  55.  62.  75.  56.\n",
      "  11.  12.  34.  52.  48.  97.  36.  16.  21.  28.  94.  41.  74.  60.\n",
      "  80.  96.  29.  10.  50.   4.  59.  68.  95.  49.  15.   3.  51.  18.\n",
      "  92.  42.  47.  84.  86.   0.  38. 400.  19.  20.  37.  64.  61.  98.\n",
      "  46.   1.  27.  77.  39.  67.  88.  31.  45.  58.  57.  85.  89.  90.\n",
      "   7.  24.  53. 500.]\n"
     ]
    }
   ],
   "source": [
    "unique_distances = master_dataset[\"distanceFromCBD\"].unique()\n",
    "print(\"Unique distances from CBD:\\n\", unique_distances)"
   ]
  },
  {
   "cell_type": "code",
   "execution_count": 59,
   "id": "1682abad",
   "metadata": {},
   "outputs": [
    {
     "name": "stdout",
     "output_type": "stream",
     "text": [
      "Top 10 most common distances:\n",
      "distanceFromCBD\n",
      "62.0    7805\n",
      "99.0    7794\n",
      "92.0    7782\n",
      "1.0     7769\n",
      "41.0    7766\n",
      "28.0    7762\n",
      "93.0    7755\n",
      "95.0    7755\n",
      "58.0    7751\n",
      "81.0    7748\n",
      "Name: count, dtype: int64\n",
      "\n",
      "Least common distances (possible outliers):\n",
      "distanceFromCBD\n",
      "15.0     7522\n",
      "87.0     7517\n",
      "8.0      7511\n",
      "32.0     7501\n",
      "24.0     7492\n",
      "18.0     7467\n",
      "73.0     7414\n",
      "20.0     7408\n",
      "400.0       1\n",
      "500.0       1\n",
      "Name: count, dtype: int64\n"
     ]
    }
   ],
   "source": [
    "print(\"Top 10 most common distances:\")\n",
    "print(master_dataset['distanceFromCBD'].value_counts().head(10))\n",
    "\n",
    "print(\"\\nLeast common distances (possible outliers):\")\n",
    "print(master_dataset['distanceFromCBD'].value_counts().tail(10))\n",
    "\n"
   ]
  },
  {
   "cell_type": "code",
   "execution_count": 60,
   "id": "657da676",
   "metadata": {},
   "outputs": [
    {
     "name": "stdout",
     "output_type": "stream",
     "text": [
      "Total rows with distanceFromCBD > 60: 298068\n"
     ]
    }
   ],
   "source": [
    "# Define high distance threshold\n",
    "high_distance_df = master_dataset[master_dataset['distanceFromCBD'] > 60]\n",
    "\n",
    "print(f\"Total rows with distanceFromCBD > 60: {high_distance_df.shape[0]}\")\n"
   ]
  },
  {
   "cell_type": "code",
   "execution_count": 61,
   "id": "ebe56547",
   "metadata": {},
   "outputs": [
    {
     "name": "stdout",
     "output_type": "stream",
     "text": [
      "\n",
      "Industry breakdown for high distances:\n",
      "industry\n",
      "health       42676\n",
      "service      42659\n",
      "finance      42627\n",
      "auto         42610\n",
      "education    42524\n",
      "web          42506\n",
      "oil          42466\n",
      "Name: count, dtype: int64\n",
      "\n",
      "Company breakdown for high distances (top 10):\n",
      "companyId\n",
      "COMP39    4853\n",
      "COMP11    4825\n",
      "COMP46    4824\n",
      "COMP51    4813\n",
      "COMP30    4809\n",
      "COMP48    4807\n",
      "COMP10    4797\n",
      "COMP35    4797\n",
      "COMP42    4792\n",
      "COMP26    4791\n",
      "Name: count, dtype: int64\n",
      "\n",
      "JobRole breakdown for high distances:\n",
      "jobRole\n",
      "senior            39608\n",
      "junior            39191\n",
      "cto               39155\n",
      "vice_president    39058\n",
      "ceo               39041\n",
      "cfo               38980\n",
      "manager           38963\n",
      "janitor           24072\n",
      "Name: count, dtype: int64\n"
     ]
    }
   ],
   "source": [
    "print(\"\\nIndustry breakdown for high distances:\")\n",
    "print(high_distance_df['industry'].value_counts())\n",
    "\n",
    "print(\"\\nCompany breakdown for high distances (top 10):\")\n",
    "print(high_distance_df['companyId'].value_counts().head(10))\n",
    "\n",
    "print(\"\\nJobRole breakdown for high distances:\")\n",
    "print(high_distance_df['jobRole'].value_counts())\n"
   ]
  },
  {
   "cell_type": "code",
   "execution_count": 62,
   "id": "c21328dc",
   "metadata": {},
   "outputs": [
    {
     "name": "stdout",
     "output_type": "stream",
     "text": [
      "\n",
      "Salary stats for high distances:\n",
      "count    2.980680e+05\n",
      "mean     1.430310e+02\n",
      "std      1.831632e+04\n",
      "min      1.800000e+01\n",
      "25%      8.600000e+01\n",
      "50%      1.080000e+02\n",
      "75%      1.320000e+02\n",
      "max      1.000000e+07\n",
      "Name: salaryInThousands, dtype: float64\n"
     ]
    }
   ],
   "source": [
    "print(\"\\nSalary stats for high distances:\")\n",
    "print(high_distance_df['salaryInThousands'].describe())\n"
   ]
  },
  {
   "cell_type": "code",
   "execution_count": 63,
   "id": "961a13fa",
   "metadata": {},
   "outputs": [
    {
     "name": "stdout",
     "output_type": "stream",
     "text": [
      "\n",
      "Salary stats for ALL employees:\n",
      "count    7.627590e+05\n",
      "mean     1.347233e+02\n",
      "std      1.144995e+04\n",
      "min      0.000000e+00\n",
      "25%      9.500000e+01\n",
      "50%      1.190000e+02\n",
      "75%      1.460000e+02\n",
      "max      1.000000e+07\n",
      "Name: salaryInThousands, dtype: float64\n"
     ]
    }
   ],
   "source": [
    "print(\"\\nSalary stats for ALL employees:\")\n",
    "print(master_dataset['salaryInThousands'].describe())\n"
   ]
  },
  {
   "cell_type": "code",
   "execution_count": 64,
   "id": "8b36f7ea",
   "metadata": {},
   "outputs": [
    {
     "data": {
      "image/png": "[encoded data removed]",
      "text/plain": [
       "<Figure size 800x400 with 1 Axes>"
      ]
     },
     "metadata": {},
     "output_type": "display_data"
    }
   ],
   "source": [
    "import matplotlib.pyplot as plt\n",
    "import seaborn as sns\n",
    "\n",
    "master_dataset['distanceGroup'] = master_dataset['distanceFromCBD'].apply(lambda x: 'high (>60)' if x > 60 else 'normal (≤60)')\n",
    "plt.figure(figsize=(8,4))\n",
    "sns.boxplot(x='distanceGroup', y='salaryInThousands', data=master_dataset)\n",
    "plt.title(\"Salary by Distance Group\")\n",
    "plt.show()\n"
   ]
  },
  {
   "cell_type": "code",
   "execution_count": 65,
   "id": "4226e173",
   "metadata": {},
   "outputs": [
    {
     "name": "stdout",
     "output_type": "stream",
     "text": [
      "Rows remaining after removing distance > 60: 464691\n"
     ]
    }
   ],
   "source": [
    "master_dataset = master_dataset[master_dataset['distanceFromCBD'] <= 60]\n",
    "print(f\"Rows remaining after removing distance > 60: {master_dataset.shape[0]}\")\n"
   ]
  },
  {
   "cell_type": "markdown",
   "id": "cb06e1c9",
   "metadata": {},
   "source": [
    "#### `salaryInThousands` Outlier Cleaning:"
   ]
  },
  {
   "cell_type": "code",
   "execution_count": 66,
   "id": "2a816df7",
   "metadata": {},
   "outputs": [
    {
     "name": "stdout",
     "output_type": "stream",
     "text": [
      "Number of salary outliers: 5868\n",
      "\n",
      "Salary outlier stats:\n",
      "count    5868.000000\n",
      "mean      236.476994\n",
      "std        13.862223\n",
      "min         0.000000\n",
      "25%       227.000000\n",
      "50%       233.000000\n",
      "75%       243.000000\n",
      "max       301.000000\n",
      "Name: salaryInThousands, dtype: float64\n",
      "\n",
      "Outlier min: 0.0\n",
      "Outlier max: 301.0\n"
     ]
    }
   ],
   "source": [
    "# Define bounds (from your IQR calculation)\n",
    "lower_bound = 18.5\n",
    "upper_bound = 222.5\n",
    "\n",
    "# Filter for salary outliers\n",
    "salary_outliers = master_dataset[(master_dataset['salaryInThousands'] < lower_bound) | \n",
    "                                (master_dataset['salaryInThousands'] > upper_bound)]\n",
    "\n",
    "print(\"Number of salary outliers:\", salary_outliers.shape[0])\n",
    "print(\"\\nSalary outlier stats:\")\n",
    "print(salary_outliers['salaryInThousands'].describe())\n",
    "\n",
    "# See minimum and maximum\n",
    "print(\"\\nOutlier min:\", salary_outliers['salaryInThousands'].min())\n",
    "print(\"Outlier max:\", salary_outliers['salaryInThousands'].max())\n"
   ]
  },
  {
   "cell_type": "code",
   "execution_count": 67,
   "id": "cd5c4c74",
   "metadata": {},
   "outputs": [
    {
     "name": "stdout",
     "output_type": "stream",
     "text": [
      "Lowest salary outliers:\n",
      "        salaryInThousands         jobRole industry\n",
      "33214                 0.0          junior     auto\n",
      "665824                0.0             cto     auto\n",
      "829877                0.0         manager  finance\n",
      "841904                0.0  vice_president      web\n",
      "2921                223.0             ceo      oil\n",
      "3017                223.0             cto   health\n",
      "13258               223.0             ceo      web\n",
      "14155               223.0             ceo      web\n",
      "17632               223.0             cfo  finance\n",
      "19407               223.0  vice_president  finance\n",
      "\n",
      "Highest salary outliers:\n",
      "        salaryInThousands jobRole industry\n",
      "403266              301.0     cfo      oil\n",
      "699310              301.0     cto      oil\n",
      "586088              298.0     ceo      oil\n",
      "295876              294.0     ceo      oil\n",
      "925292              294.0     ceo  finance\n",
      "517273              293.0     ceo      oil\n",
      "919258              293.0     ceo  finance\n",
      "49858               292.0     ceo  finance\n",
      "898650              292.0     cto  finance\n",
      "379851              290.0     ceo      web\n"
     ]
    }
   ],
   "source": [
    "# Show the smallest and largest outlier salaries\n",
    "print(\"Lowest salary outliers:\")\n",
    "print(salary_outliers.nsmallest(10, 'salaryInThousands')[['salaryInThousands', 'jobRole', 'industry']])\n",
    "\n",
    "print(\"\\nHighest salary outliers:\")\n",
    "print(salary_outliers.nlargest(10, 'salaryInThousands')[['salaryInThousands', 'jobRole', 'industry']])\n"
   ]
  },
  {
   "cell_type": "code",
   "execution_count": 68,
   "id": "f6326f3f",
   "metadata": {},
   "outputs": [
    {
     "name": "stdout",
     "output_type": "stream",
     "text": [
      "Count of salary = 0: 4\n",
      "Count of salary = 10000000: 0\n"
     ]
    }
   ],
   "source": [
    "# How many are exactly 0? How many are exactly 10,000,000?\n",
    "print(\"Count of salary = 0:\", (salary_outliers['salaryInThousands'] == 0).sum())\n",
    "print(\"Count of salary = 10000000:\", (salary_outliers['salaryInThousands'] == 10000000).sum())\n"
   ]
  },
  {
   "cell_type": "code",
   "execution_count": 69,
   "id": "ec89e75b",
   "metadata": {},
   "outputs": [
    {
     "name": "stdout",
     "output_type": "stream",
     "text": [
      "\n",
      "Top job roles for salary outliers:\n",
      "jobRole\n",
      "ceo               2640\n",
      "cfo               1238\n",
      "cto               1223\n",
      "vice_president     511\n",
      "manager            189\n",
      "senior              50\n",
      "junior              17\n",
      "Name: count, dtype: int64\n",
      "\n",
      "Top industries for salary outliers:\n",
      "industry\n",
      "oil          1960\n",
      "finance      1775\n",
      "web          1088\n",
      "health        522\n",
      "auto          277\n",
      "service       161\n",
      "education      85\n",
      "Name: count, dtype: int64\n"
     ]
    }
   ],
   "source": [
    "print(\"\\nTop job roles for salary outliers:\")\n",
    "print(salary_outliers['jobRole'].value_counts().head(10))\n",
    "\n",
    "print(\"\\nTop industries for salary outliers:\")\n",
    "print(salary_outliers['industry'].value_counts().head(10))\n"
   ]
  },
  {
   "cell_type": "code",
   "execution_count": 70,
   "id": "5a201ba7",
   "metadata": {},
   "outputs": [
    {
     "data": {
      "image/png": "[encoded data removed]",
      "text/plain": [
       "<Figure size 800x400 with 1 Axes>"
      ]
     },
     "metadata": {},
     "output_type": "display_data"
    }
   ],
   "source": [
    "import matplotlib.pyplot as plt\n",
    "\n",
    "plt.figure(figsize=(8,4))\n",
    "plt.hist(salary_outliers['salaryInThousands'], bins=50)\n",
    "plt.title(\"Salary Outlier Distribution\")\n",
    "plt.xlabel(\"Salary in Thousands\")\n",
    "plt.ylabel(\"Count\")\n",
    "plt.show()\n"
   ]
  },
  {
   "cell_type": "code",
   "execution_count": 71,
   "id": "7ad3f98c",
   "metadata": {},
   "outputs": [],
   "source": [
    "master_dataset = master_dataset[\n",
    "    (master_dataset['salaryInThousands'] >= 18.5) &\n",
    "    (master_dataset['salaryInThousands'] <= 222.5)\n",
    "]\n"
   ]
  },
  {
   "cell_type": "code",
   "execution_count": 72,
   "id": "f1de0928",
   "metadata": {},
   "outputs": [],
   "source": [
    "master_dataset = master_dataset[master_dataset['salaryInThousands'] > 0]"
   ]
  },
  {
   "cell_type": "markdown",
   "id": "e6ee342f",
   "metadata": {},
   "source": [
    "Salary outliers (below $18.5k and above $222.5k) were removed based on the IQR rule. This ensures analysis and modeling are not affected by extreme or implausible values, particularly as Singapore’s salary ranges rarely reach the observed high outliers for standard industry roles."
   ]
  },
  {
   "cell_type": "code",
   "execution_count": 73,
   "id": "87bf4303",
   "metadata": {},
   "outputs": [
    {
     "data": {
      "text/plain": [
       "(458823, 10)"
      ]
     },
     "execution_count": 73,
     "metadata": {},
     "output_type": "execute_result"
    }
   ],
   "source": [
    "master_dataset.shape"
   ]
  },
  {
   "cell_type": "code",
   "execution_count": 74,
   "id": "95376830",
   "metadata": {},
   "outputs": [
    {
     "data": {
      "text/html": [
       "<div>\n",
       "<style scoped>\n",
       "    .dataframe tbody tr th:only-of-type {\n",
       "        vertical-align: middle;\n",
       "    }\n",
       "\n",
       "    .dataframe tbody tr th {\n",
       "        vertical-align: top;\n",
       "    }\n",
       "\n",
       "    .dataframe thead th {\n",
       "        text-align: right;\n",
       "    }\n",
       "</style>\n",
       "<table border=\"1\" class=\"dataframe\">\n",
       "  <thead>\n",
       "    <tr style=\"text-align: right;\">\n",
       "      <th></th>\n",
       "      <th>jobId</th>\n",
       "      <th>companyId</th>\n",
       "      <th>jobRole</th>\n",
       "      <th>education</th>\n",
       "      <th>major</th>\n",
       "      <th>industry</th>\n",
       "      <th>yearsExperience</th>\n",
       "      <th>distanceFromCBD</th>\n",
       "      <th>salaryInThousands</th>\n",
       "      <th>distanceGroup</th>\n",
       "    </tr>\n",
       "  </thead>\n",
       "  <tbody>\n",
       "    <tr>\n",
       "      <th>1786</th>\n",
       "      <td>JOB1362684407697</td>\n",
       "      <td>COMP56</td>\n",
       "      <td>janitor</td>\n",
       "      <td>high_school</td>\n",
       "      <td>unknown</td>\n",
       "      <td>health</td>\n",
       "      <td>24.0</td>\n",
       "      <td>30.0</td>\n",
       "      <td>102.0</td>\n",
       "      <td>normal (≤60)</td>\n",
       "    </tr>\n",
       "    <tr>\n",
       "      <th>1789</th>\n",
       "      <td>JOB1362684407700</td>\n",
       "      <td>COMP54</td>\n",
       "      <td>junior</td>\n",
       "      <td>masters</td>\n",
       "      <td>math</td>\n",
       "      <td>finance</td>\n",
       "      <td>21.0</td>\n",
       "      <td>26.0</td>\n",
       "      <td>193.0</td>\n",
       "      <td>normal (≤60)</td>\n",
       "    </tr>\n",
       "    <tr>\n",
       "      <th>1791</th>\n",
       "      <td>JOB1362684407702</td>\n",
       "      <td>COMP20</td>\n",
       "      <td>cto</td>\n",
       "      <td>masters</td>\n",
       "      <td>biology</td>\n",
       "      <td>service</td>\n",
       "      <td>13.0</td>\n",
       "      <td>8.0</td>\n",
       "      <td>172.0</td>\n",
       "      <td>normal (≤60)</td>\n",
       "    </tr>\n",
       "    <tr>\n",
       "      <th>1793</th>\n",
       "      <td>JOB1362684407704</td>\n",
       "      <td>COMP61</td>\n",
       "      <td>vice_president</td>\n",
       "      <td>masters</td>\n",
       "      <td>literature</td>\n",
       "      <td>service</td>\n",
       "      <td>23.0</td>\n",
       "      <td>43.0</td>\n",
       "      <td>126.0</td>\n",
       "      <td>normal (≤60)</td>\n",
       "    </tr>\n",
       "    <tr>\n",
       "      <th>1800</th>\n",
       "      <td>JOB1362684407711</td>\n",
       "      <td>COMP20</td>\n",
       "      <td>ceo</td>\n",
       "      <td>bachelors</td>\n",
       "      <td>unknown</td>\n",
       "      <td>web</td>\n",
       "      <td>12.0</td>\n",
       "      <td>8.0</td>\n",
       "      <td>202.0</td>\n",
       "      <td>normal (≤60)</td>\n",
       "    </tr>\n",
       "    <tr>\n",
       "      <th>...</th>\n",
       "      <td>...</td>\n",
       "      <td>...</td>\n",
       "      <td>...</td>\n",
       "      <td>...</td>\n",
       "      <td>...</td>\n",
       "      <td>...</td>\n",
       "      <td>...</td>\n",
       "      <td>...</td>\n",
       "      <td>...</td>\n",
       "      <td>...</td>\n",
       "    </tr>\n",
       "    <tr>\n",
       "      <th>1023083</th>\n",
       "      <td>JOB1362685407679</td>\n",
       "      <td>COMP30</td>\n",
       "      <td>manager</td>\n",
       "      <td>doctoral</td>\n",
       "      <td>physics</td>\n",
       "      <td>web</td>\n",
       "      <td>16.0</td>\n",
       "      <td>16.0</td>\n",
       "      <td>143.0</td>\n",
       "      <td>normal (≤60)</td>\n",
       "    </tr>\n",
       "    <tr>\n",
       "      <th>1023084</th>\n",
       "      <td>JOB1362685407680</td>\n",
       "      <td>COMP21</td>\n",
       "      <td>cfo</td>\n",
       "      <td>masters</td>\n",
       "      <td>chemistry</td>\n",
       "      <td>service</td>\n",
       "      <td>4.0</td>\n",
       "      <td>6.0</td>\n",
       "      <td>136.0</td>\n",
       "      <td>normal (≤60)</td>\n",
       "    </tr>\n",
       "    <tr>\n",
       "      <th>1023087</th>\n",
       "      <td>JOB1362685407683</td>\n",
       "      <td>COMP24</td>\n",
       "      <td>cto</td>\n",
       "      <td>high_school</td>\n",
       "      <td>unknown</td>\n",
       "      <td>finance</td>\n",
       "      <td>12.0</td>\n",
       "      <td>35.0</td>\n",
       "      <td>160.0</td>\n",
       "      <td>normal (≤60)</td>\n",
       "    </tr>\n",
       "    <tr>\n",
       "      <th>1023089</th>\n",
       "      <td>JOB1362685407685</td>\n",
       "      <td>COMP3</td>\n",
       "      <td>cfo</td>\n",
       "      <td>masters</td>\n",
       "      <td>unknown</td>\n",
       "      <td>health</td>\n",
       "      <td>6.0</td>\n",
       "      <td>5.0</td>\n",
       "      <td>149.0</td>\n",
       "      <td>normal (≤60)</td>\n",
       "    </tr>\n",
       "    <tr>\n",
       "      <th>1023090</th>\n",
       "      <td>JOB1362685407686</td>\n",
       "      <td>COMP59</td>\n",
       "      <td>junior</td>\n",
       "      <td>bachelors</td>\n",
       "      <td>unknown</td>\n",
       "      <td>education</td>\n",
       "      <td>20.0</td>\n",
       "      <td>11.0</td>\n",
       "      <td>88.0</td>\n",
       "      <td>normal (≤60)</td>\n",
       "    </tr>\n",
       "  </tbody>\n",
       "</table>\n",
       "<p>458823 rows × 10 columns</p>\n",
       "</div>"
      ],
      "text/plain": [
       "                    jobId companyId         jobRole    education       major  \\\n",
       "1786     JOB1362684407697    COMP56         janitor  high_school     unknown   \n",
       "1789     JOB1362684407700    COMP54          junior      masters        math   \n",
       "1791     JOB1362684407702    COMP20             cto      masters     biology   \n",
       "1793     JOB1362684407704    COMP61  vice_president      masters  literature   \n",
       "1800     JOB1362684407711    COMP20             ceo    bachelors     unknown   \n",
       "...                   ...       ...             ...          ...         ...   \n",
       "1023083  JOB1362685407679    COMP30         manager     doctoral     physics   \n",
       "1023084  JOB1362685407680    COMP21             cfo      masters   chemistry   \n",
       "1023087  JOB1362685407683    COMP24             cto  high_school     unknown   \n",
       "1023089  JOB1362685407685     COMP3             cfo      masters     unknown   \n",
       "1023090  JOB1362685407686    COMP59          junior    bachelors     unknown   \n",
       "\n",
       "          industry  yearsExperience  distanceFromCBD  salaryInThousands  \\\n",
       "1786        health             24.0             30.0              102.0   \n",
       "1789       finance             21.0             26.0              193.0   \n",
       "1791       service             13.0              8.0              172.0   \n",
       "1793       service             23.0             43.0              126.0   \n",
       "1800           web             12.0              8.0              202.0   \n",
       "...            ...              ...              ...                ...   \n",
       "1023083        web             16.0             16.0              143.0   \n",
       "1023084    service              4.0              6.0              136.0   \n",
       "1023087    finance             12.0             35.0              160.0   \n",
       "1023089     health              6.0              5.0              149.0   \n",
       "1023090  education             20.0             11.0               88.0   \n",
       "\n",
       "        distanceGroup  \n",
       "1786     normal (≤60)  \n",
       "1789     normal (≤60)  \n",
       "1791     normal (≤60)  \n",
       "1793     normal (≤60)  \n",
       "1800     normal (≤60)  \n",
       "...               ...  \n",
       "1023083  normal (≤60)  \n",
       "1023084  normal (≤60)  \n",
       "1023087  normal (≤60)  \n",
       "1023089  normal (≤60)  \n",
       "1023090  normal (≤60)  \n",
       "\n",
       "[458823 rows x 10 columns]"
      ]
     },
     "execution_count": 74,
     "metadata": {},
     "output_type": "execute_result"
    }
   ],
   "source": [
    "master_dataset"
   ]
  },
  {
   "cell_type": "markdown",
   "id": "7b1be808",
   "metadata": {},
   "source": [
    "### Check Dtypes | Missing | Duplicates"
   ]
  },
  {
   "cell_type": "code",
   "execution_count": 75,
   "id": "965136d8",
   "metadata": {},
   "outputs": [
    {
     "name": "stdout",
     "output_type": "stream",
     "text": [
      "\n",
      "Data Types:\n",
      "jobId                 object\n",
      "companyId             object\n",
      "jobRole               object\n",
      "education             object\n",
      "major                 object\n",
      "industry              object\n",
      "yearsExperience      float64\n",
      "distanceFromCBD      float64\n",
      "salaryInThousands    float64\n",
      "distanceGroup         object\n",
      "dtype: object\n",
      "\n",
      "Missing Values:\n",
      "jobId                0\n",
      "companyId            0\n",
      "jobRole              0\n",
      "education            0\n",
      "major                0\n",
      "industry             0\n",
      "yearsExperience      0\n",
      "distanceFromCBD      0\n",
      "salaryInThousands    0\n",
      "distanceGroup        0\n",
      "dtype: int64\n",
      "\n",
      "Duplicates:\n",
      "0\n"
     ]
    }
   ],
   "source": [
    "# check dtypes\n",
    "print(\"\\nData Types:\")\n",
    "print(master_dataset.dtypes)\n",
    "\n",
    "print(\"\\nMissing Values:\")\n",
    "print(master_dataset.isnull().sum())\n",
    "\n",
    "print(\"\\nDuplicates:\")\n",
    "print(master_dataset.duplicated().sum())"
   ]
  },
  {
   "cell_type": "code",
   "execution_count": 76,
   "id": "48107287",
   "metadata": {},
   "outputs": [],
   "source": [
    "master_dataset.to_csv(os.path.join(cwd, 'master_dataset.csv'), index=False)"
   ]
  },
  {
   "cell_type": "markdown",
   "id": "e0c68975",
   "metadata": {},
   "source": [
    "## EDA"
   ]
  },
  {
   "cell_type": "markdown",
   "id": "b6d1247d",
   "metadata": {},
   "source": [
    "### Q1 - What is the Highest Paying Job For Web Industry?\n",
    "\n",
    "To deal with this question, we will: \n",
    "\n",
    "1. Extract all entires related to the web industry and store it in a separate df\n",
    "2. Filter out to show the highest paying jobs for the web industry"
   ]
  },
  {
   "cell_type": "code",
   "execution_count": 86,
   "id": "3277d10f",
   "metadata": {},
   "outputs": [
    {
     "data": {
      "text/plain": [
       "Index(['jobId', 'companyId', 'jobRole', 'education', 'major', 'industry',\n",
       "       'yearsExperience', 'distanceFromCBD', 'salaryInThousands',\n",
       "       'distanceGroup'],\n",
       "      dtype='object')"
      ]
     },
     "execution_count": 86,
     "metadata": {},
     "output_type": "execute_result"
    }
   ],
   "source": [
    "master_dataset.columns"
   ]
  },
  {
   "cell_type": "code",
   "execution_count": 88,
   "id": "be319957",
   "metadata": {},
   "outputs": [
    {
     "name": "stdout",
     "output_type": "stream",
     "text": [
      "Highest paying job in the Web industry: ceo ($222k)\n"
     ]
    },
    {
     "data": {
      "image/png": "[encoded data removed]",
      "text/plain": [
       "<Figure size 640x480 with 1 Axes>"
      ]
     },
     "metadata": {},
     "output_type": "display_data"
    }
   ],
   "source": [
    "import matplotlib.pyplot as plt\n",
    "\n",
    "# Filter web industry\n",
    "web_industry_df = master_dataset[master_dataset['industry'].str.lower() == 'web']\n",
    "\n",
    "# Find highest paying job\n",
    "highest_web = web_industry_df.loc[web_industry_df['salaryInThousands'].idxmax()]\n",
    "print(f\"Highest paying job in the Web industry: {highest_web['jobRole']} (${int(highest_web['salaryInThousands'])}k)\")\n",
    "\n",
    "# Plot: Top 5 web jobs by salary\n",
    "top_web_jobs = web_industry_df.groupby('jobRole')['salaryInThousands'].max().sort_values(ascending=False).head(5)\n",
    "\n",
    "ax = top_web_jobs.plot(kind='bar', color='skyblue')\n",
    "plt.title('Top 5 Highest Paying Web Job Roles')\n",
    "plt.ylabel('Max Salary (Thousands)')\n",
    "plt.xlabel('Job Role')\n",
    "\n",
    "# Annotate bars with the salary numbers\n",
    "for i, v in enumerate(top_web_jobs.values):\n",
    "    plt.text(i, v + 1, f'{int(v)}k', ha='center', va='bottom', fontweight='bold')\n",
    "\n",
    "plt.tight_layout()\n",
    "plt.show()\n"
   ]
  },
  {
   "cell_type": "markdown",
   "id": "6f582b1d",
   "metadata": {},
   "source": [
    "### Q2 - Rank the top 10 job roles with the highest salary for all the industry\n",
    "\n",
    "To solve this question, we will:\n",
    "\n",
    "1. Group the merged df by the 10 highest paying jobs based on the \"jobrole\" and the \"salaryinthousands\" column and assign it to a variable\n",
    "2. I will then plot out the entires in that variable"
   ]
  },
  {
   "cell_type": "code",
   "execution_count": 89,
   "id": "b4f2a6df",
   "metadata": {},
   "outputs": [
    {
     "name": "stdout",
     "output_type": "stream",
     "text": [
      "Top 10 highest paying job roles: jobRole\n",
      "ceo               222.0\n",
      "cfo               222.0\n",
      "cto               222.0\n",
      "junior            222.0\n",
      "manager           222.0\n",
      "senior            222.0\n",
      "vice_president    222.0\n",
      "janitor           189.0\n",
      "Name: salaryInThousands, dtype: float64\n"
     ]
    },
    {
     "data": {
      "image/png": "[encoded data removed]",
      "text/plain": [
       "<Figure size 640x480 with 1 Axes>"
      ]
     },
     "metadata": {},
     "output_type": "display_data"
    }
   ],
   "source": [
    "# Find top 10 job roles by max salary\n",
    "top10_jobs = master_dataset.groupby('jobRole')['salaryInThousands'].max().sort_values(ascending=False).head(10)\n",
    "print(\"Top 10 highest paying job roles:\", top10_jobs)\n",
    "\n",
    "# Plot\n",
    "top10_jobs.plot(kind='bar', color='orange')\n",
    "plt.title('Top 10 Highest Paying Job Roles')\n",
    "plt.ylabel('Max Salary (Thousands)')\n",
    "plt.xlabel('Job Role')\n",
    "plt.show()\n"
   ]
  },
  {
   "cell_type": "markdown",
   "id": "ad4f909b",
   "metadata": {},
   "source": [
    "### Q3 - Which of the industries has the highest salary?\n",
    "\n",
    "To combat this, we will:\n",
    "\n",
    "1. Group the master dataset by the industry and the salaryinthousands column and assign it to a variable\n",
    "2. Plot the entires into a histogram to compare"
   ]
  },
  {
   "cell_type": "code",
   "execution_count": 90,
   "id": "393d15d7",
   "metadata": {},
   "outputs": [
    {
     "name": "stdout",
     "output_type": "stream",
     "text": [
      "Industry with highest average salary: oil ($141.70k)\n"
     ]
    },
    {
     "data": {
      "image/png": "[encoded data removed]",
      "text/plain": [
       "<Figure size 1000x500 with 1 Axes>"
      ]
     },
     "metadata": {},
     "output_type": "display_data"
    }
   ],
   "source": [
    "import matplotlib.pyplot as plt\n",
    "\n",
    "# Highest average salary by industry\n",
    "highest_industry = master_dataset.groupby('industry')['salaryInThousands'].mean().idxmax()\n",
    "highest_salary = master_dataset.groupby('industry')['salaryInThousands'].mean().max()\n",
    "print(f\"Industry with highest average salary: {highest_industry} (${highest_salary:.2f}k)\")\n",
    "\n",
    "# Plot\n",
    "industry_salary = master_dataset.groupby('industry')['salaryInThousands'].mean().sort_values(ascending=False)\n",
    "plt.figure(figsize=(10,5))\n",
    "industry_salary.plot(kind='bar', color='mediumseagreen')\n",
    "plt.ylabel('Average Salary (Thousands)')\n",
    "plt.title('Average Salary by Industry')\n",
    "plt.tight_layout()\n",
    "plt.show()\n"
   ]
  },
  {
   "cell_type": "markdown",
   "id": "94e16228",
   "metadata": {},
   "source": [
    "### Q4 - Which Job has the lowest pay?"
   ]
  },
  {
   "cell_type": "code",
   "execution_count": 93,
   "id": "8ba3cd35",
   "metadata": {},
   "outputs": [
    {
     "name": "stdout",
     "output_type": "stream",
     "text": [
      "Job role with lowest average salary: janitor ($78.68k)\n"
     ]
    }
   ],
   "source": [
    "lowest_job = master_dataset.groupby('jobRole')['salaryInThousands'].mean().idxmin()\n",
    "lowest_salary = master_dataset.groupby('jobRole')['salaryInThousands'].mean().min()\n",
    "print(f\"Job role with lowest average salary: {lowest_job} (${lowest_salary:.2f}k)\")\n"
   ]
  },
  {
   "cell_type": "markdown",
   "id": "4c625e2c",
   "metadata": {},
   "source": [
    "### Q5 - Which Industries has the lowest pay?"
   ]
  },
  {
   "cell_type": "code",
   "execution_count": 94,
   "id": "058a23b4",
   "metadata": {},
   "outputs": [
    {
     "name": "stdout",
     "output_type": "stream",
     "text": [
      "Industries with the lowest average salary:\n",
      "industry\n",
      "education    112.373995\n",
      "service      117.425028\n",
      "auto         122.095118\n",
      "health       128.181599\n",
      "web          133.592605\n",
      "Name: salaryInThousands, dtype: float64\n"
     ]
    },
    {
     "data": {
      "image/png": "[encoded data removed]",
      "text/plain": [
       "<Figure size 800x400 with 1 Axes>"
      ]
     },
     "metadata": {},
     "output_type": "display_data"
    }
   ],
   "source": [
    "# Show bottom 5 industries by mean salary\n",
    "lowest_industries = master_dataset.groupby('industry')['salaryInThousands'].mean().sort_values().head(5)\n",
    "print(\"Industries with the lowest average salary:\")\n",
    "print(lowest_industries)\n",
    "\n",
    "# Plot\n",
    "plt.figure(figsize=(8,4))\n",
    "lowest_industries.plot(kind='bar', color='salmon')\n",
    "plt.ylabel('Average Salary (Thousands)')\n",
    "plt.title('Lowest Paying Industries')\n",
    "plt.tight_layout()\n",
    "plt.show()\n"
   ]
  },
  {
   "cell_type": "markdown",
   "id": "80865e37",
   "metadata": {},
   "source": [
    "### Q5a - Median Salary"
   ]
  },
  {
   "cell_type": "code",
   "execution_count": 96,
   "id": "21a1a022",
   "metadata": {},
   "outputs": [
    {
     "name": "stdout",
     "output_type": "stream",
     "text": [
      "Q5a) Industry with highest % of people below $114k: education (52.86%)\n"
     ]
    },
    {
     "data": {
      "image/png": "[encoded data removed]",
      "text/plain": [
       "<Figure size 1000x500 with 1 Axes>"
      ]
     },
     "metadata": {},
     "output_type": "display_data"
    },
    {
     "data": {
      "image/png": "[encoded data removed]",
      "text/plain": [
       "<Figure size 1000x500 with 1 Axes>"
      ]
     },
     "metadata": {},
     "output_type": "display_data"
    },
    {
     "name": "stdout",
     "output_type": "stream",
     "text": [
      "\n",
      "\n",
      "Job roles with mean salary below the median:\n",
      "jobRole\n",
      "janitor     78.682364\n",
      "junior     106.708821\n",
      "Name: salaryInThousands, dtype: float64\n"
     ]
    }
   ],
   "source": [
    "median_salary = 114\n",
    "\n",
    "# 4a. Industry with the highest % below median salary\n",
    "industry_counts = master_dataset.groupby('industry')['salaryInThousands'].apply(lambda x: (x < median_salary).mean())\n",
    "industry_most_below = industry_counts.idxmax()\n",
    "print(f\"Q5a) Industry with highest % of people below ${median_salary}k: {industry_most_below} ({industry_counts[industry_most_below]*100:.2f}%)\")\n",
    "\n",
    "# Plot\n",
    "industry_counts = industry_counts.sort_values(ascending=False)\n",
    "plt.figure(figsize=(10,5))\n",
    "industry_counts.plot(kind='bar', color='plum')\n",
    "plt.ylabel('% Below Median Salary')\n",
    "plt.title('Q5b - Percentage Below Median Salary by Industry')\n",
    "plt.tight_layout()\n",
    "plt.show()\n",
    "\n",
    "# 4b. Job roles below median salary (by mean salary)\n",
    "below_median_jobs = master_dataset.groupby('jobRole')['salaryInThousands'].mean()\n",
    "below_median_jobs = below_median_jobs[below_median_jobs < median_salary]\n",
    "plt.figure(figsize=(10,5))\n",
    "below_median_jobs.sort_values(ascending=False).plot(kind='barh', color='cornflowerblue')\n",
    "plt.xlabel('Mean Salary (Thousands)')\n",
    "plt.title('Job Roles with Mean Salary Below Median ($114k)')\n",
    "plt.tight_layout()\n",
    "plt.show()\n",
    "print(\"\\n\")\n",
    "print(\"Job roles with mean salary below the median:\")\n",
    "print(below_median_jobs.sort_values())\n"
   ]
  },
  {
   "cell_type": "markdown",
   "id": "dae244e5",
   "metadata": {},
   "source": [
    "### Q6 - Determine if there is a relationship between years of experience and salary"
   ]
  },
  {
   "cell_type": "code",
   "execution_count": 99,
   "id": "6754dbab",
   "metadata": {},
   "outputs": [
    {
     "data": {
      "image/png": "[encoded data removed]",
      "text/plain": [
       "<Figure size 600x400 with 1 Axes>"
      ]
     },
     "metadata": {},
     "output_type": "display_data"
    },
    {
     "name": "stdout",
     "output_type": "stream",
     "text": [
      "Correlation between years of experience and salary: 0.43\n"
     ]
    }
   ],
   "source": [
    "plt.figure(figsize=(6,4))\n",
    "plt.scatter(master_dataset['yearsExperience'], master_dataset['salaryInThousands'], alpha=0.2)\n",
    "plt.xlabel('Years of Experience')\n",
    "plt.ylabel('Salary (Thousands)')\n",
    "plt.title('Years of Experience vs. Salary')\n",
    "plt.tight_layout()\n",
    "plt.show()\n",
    "\n",
    "# Correlation coefficient\n",
    "corr_exp_salary = master_dataset[['yearsExperience','salaryInThousands']].corr().iloc[0,1]\n",
    "print(f\"Correlation between years of experience and salary: {corr_exp_salary:.2f}\")\n"
   ]
  },
  {
   "cell_type": "markdown",
   "id": "3383091e",
   "metadata": {},
   "source": [
    "### Q7 - Determine if there is a relationship between education and Salary"
   ]
  },
  {
   "cell_type": "code",
   "execution_count": 102,
   "id": "8b654b0a",
   "metadata": {},
   "outputs": [
    {
     "data": {
      "text/plain": [
       "<Figure size 1000x500 with 0 Axes>"
      ]
     },
     "metadata": {},
     "output_type": "display_data"
    },
    {
     "data": {
      "image/png": "[encoded data removed]",
      "text/plain": [
       "<Figure size 640x480 with 1 Axes>"
      ]
     },
     "metadata": {},
     "output_type": "display_data"
    },
    {
     "name": "stdout",
     "output_type": "stream",
     "text": [
      "ANOVA F-test p-value for education vs. salary: 0.0000e+00\n"
     ]
    }
   ],
   "source": [
    "plt.figure(figsize=(10,5))\n",
    "master_dataset.boxplot(column='salaryInThousands', by='education', vert=False, showfliers=False)\n",
    "plt.title('Salary by Education Level')\n",
    "plt.suptitle('')\n",
    "plt.xlabel('Salary (Thousands)')\n",
    "plt.ylabel('Education')\n",
    "plt.tight_layout()\n",
    "plt.show()\n",
    "\n",
    "# ANOVA (if you want to test statistically)\n",
    "import scipy.stats as stats\n",
    "edu_groups = [group.dropna() for name, group in master_dataset.groupby('education')['salaryInThousands']]\n",
    "anova_edu = stats.f_oneway(*edu_groups)\n",
    "print(f\"ANOVA F-test p-value for education vs. salary: {anova_edu.pvalue:.4e}\")\n"
   ]
  },
  {
   "cell_type": "markdown",
   "id": "fd15975e",
   "metadata": {},
   "source": [
    "### Does Major affect Salary?"
   ]
  },
  {
   "cell_type": "code",
   "execution_count": 103,
   "id": "87ef62f3",
   "metadata": {},
   "outputs": [
    {
     "data": {
      "text/plain": [
       "<Figure size 1000x500 with 0 Axes>"
      ]
     },
     "metadata": {},
     "output_type": "display_data"
    },
    {
     "data": {
      "image/png": "[encoded data removed]",
      "text/plain": [
       "<Figure size 640x480 with 1 Axes>"
      ]
     },
     "metadata": {},
     "output_type": "display_data"
    },
    {
     "name": "stdout",
     "output_type": "stream",
     "text": [
      "ANOVA F-test p-value for major vs. salary: 0.0000e+00\n"
     ]
    }
   ],
   "source": [
    "plt.figure(figsize=(10,5))\n",
    "master_dataset.boxplot(column='salaryInThousands', by='major', vert=False, showfliers=False)\n",
    "plt.title('Salary by Major')\n",
    "plt.suptitle('')\n",
    "plt.xlabel('Salary (Thousands)')\n",
    "plt.ylabel('Major')\n",
    "plt.tight_layout()\n",
    "plt.show()\n",
    "\n",
    "# ANOVA (if you want to test statistically)\n",
    "major_groups = [group.dropna() for name, group in master_dataset.groupby('major')['salaryInThousands']]\n",
    "anova_major = stats.f_oneway(*major_groups)\n",
    "print(f\"ANOVA F-test p-value for major vs. salary: {anova_major.pvalue:.4e}\")\n"
   ]
  },
  {
   "cell_type": "markdown",
   "id": "63740f1d",
   "metadata": {},
   "source": [
    "## ML Modelling"
   ]
  },
  {
   "cell_type": "markdown",
   "id": "fb63eade",
   "metadata": {},
   "source": [
    "### X & Y Tensors"
   ]
  },
  {
   "cell_type": "code",
   "execution_count": 44,
   "id": "c082cec5",
   "metadata": {},
   "outputs": [],
   "source": [
    "X = master_dataset.drop(['salaryInThousands', 'jobId', 'companyId'], axis=1)\n",
    "y = master_dataset['salaryInThousands']"
   ]
  },
  {
   "cell_type": "markdown",
   "id": "6bd05d93",
   "metadata": {},
   "source": [
    "### Train-Test-Val Splitting"
   ]
  },
  {
   "cell_type": "code",
   "execution_count": 45,
   "id": "abd8518d",
   "metadata": {},
   "outputs": [],
   "source": [
    "X_temp, X_test, y_temp, y_test = train_test_split(\n",
    "    X, y, test_size=0.15, random_state=42\n",
    ")\n",
    "# Split train vs val\n",
    "X_train, X_val, y_train, y_val = train_test_split(\n",
    "    X_temp, y_temp, test_size=0.1765, random_state=42  # 0.1765 * 0.85 ≈ 0.15\n",
    ")\n"
   ]
  },
  {
   "cell_type": "code",
   "execution_count": 46,
   "id": "608c343c",
   "metadata": {},
   "outputs": [
    {
     "name": "stdout",
     "output_type": "stream",
     "text": [
      "Train shape: (321164, 7), Val shape: (68835, 7), Test shape: (68824, 7)\n"
     ]
    }
   ],
   "source": [
    "print(f\"Train shape: {X_train.shape}, Val shape: {X_val.shape}, Test shape: {X_test.shape}\")"
   ]
  },
  {
   "cell_type": "markdown",
   "id": "84f37b4c",
   "metadata": {},
   "source": [
    "### Categorical & Numerical"
   ]
  },
  {
   "cell_type": "code",
   "execution_count": 47,
   "id": "6854bc61",
   "metadata": {},
   "outputs": [],
   "source": [
    "cat_cols = X.select_dtypes(include=['object', 'category']).columns.tolist()\n",
    "num_cols = X.select_dtypes(include=[np.number]).columns.tolist()\n"
   ]
  },
  {
   "cell_type": "code",
   "execution_count": 48,
   "id": "391df847",
   "metadata": {},
   "outputs": [
    {
     "name": "stdout",
     "output_type": "stream",
     "text": [
      "Categorical columns: ['jobRole', 'education', 'major', 'industry', 'distanceGroup']\n",
      "Numeric columns: ['yearsExperience', 'distanceFromCBD']\n"
     ]
    }
   ],
   "source": [
    "print(\"Categorical columns:\", cat_cols)\n",
    "print(\"Numeric columns:\", num_cols)"
   ]
  },
  {
   "cell_type": "markdown",
   "id": "6c4e9a23",
   "metadata": {},
   "source": [
    "### Data Pre-Processing"
   ]
  },
  {
   "cell_type": "code",
   "execution_count": 49,
   "id": "e85876f1",
   "metadata": {},
   "outputs": [],
   "source": [
    "preprocessor = ColumnTransformer(\n",
    "    transformers=[\n",
    "        ('num', StandardScaler(), num_cols),\n",
    "        ('cat', OneHotEncoder(handle_unknown='ignore', sparse_output=False), cat_cols)\n",
    "    ]\n",
    ")"
   ]
  },
  {
   "cell_type": "markdown",
   "id": "1893df37",
   "metadata": {},
   "source": [
    "### Individual Model Training:"
   ]
  },
  {
   "cell_type": "code",
   "execution_count": null,
   "id": "97799d99",
   "metadata": {},
   "outputs": [],
   "source": [
    "# -- Prepare Data --\n",
    "X = master_dataset.drop(['salaryInThousands', 'jobId', 'companyId'], axis=1)\n",
    "y = master_dataset['salaryInThousands']\n",
    "\n",
    "X_temp, X_test, y_temp, y_test = train_test_split(X, y, test_size=0.15, random_state=42)\n",
    "X_train, X_val, y_train, y_val = train_test_split(X_temp, y_temp, test_size=0.1765, random_state=42)\n",
    "\n",
    "cat_cols = X.select_dtypes(include=['object', 'category']).columns.tolist()\n",
    "num_cols = X.select_dtypes(include=[np.number]).columns.tolist()\n",
    "\n",
    "from sklearn.compose import ColumnTransformer\n",
    "from sklearn.preprocessing import OneHotEncoder, StandardScaler\n",
    "\n",
    "preprocessor = ColumnTransformer(\n",
    "    transformers=[ \n",
    "        ('num', StandardScaler(), num_cols),\n",
    "        ('cat', OneHotEncoder(handle_unknown='ignore', sparse_output=False), cat_cols)\n",
    "    ]\n",
    ")"
   ]
  },
  {
   "cell_type": "code",
   "execution_count": 74,
   "id": "49536727",
   "metadata": {},
   "outputs": [],
   "source": [
    "from sklearn.metrics import mean_squared_error, r2_score, mean_absolute_error\n",
    "def evaluate(model, X, y, label='Set'):\n",
    "    y_pred = model.predict(X)\n",
    "    rmse = np.sqrt(mean_squared_error(y, y_pred))\n",
    "    mae = mean_absolute_error(y, y_pred)\n",
    "    r2 = r2_score(y, y_pred)\n",
    "    print(f\"{label}: RMSE={rmse:.2f}, MAE={mae:.2f}, R²={r2:.4f}\")\n",
    "    return rmse, mae, r2"
   ]
  },
  {
   "cell_type": "markdown",
   "id": "e96ef3f2",
   "metadata": {},
   "source": [
    "#### RandomForest"
   ]
  },
  {
   "cell_type": "code",
   "execution_count": 75,
   "id": "4fcc5e37",
   "metadata": {},
   "outputs": [
    {
     "name": "stdout",
     "output_type": "stream",
     "text": [
      "\n",
      "--- Random Forest ---\n",
      "Train: RMSE=10.36, MAE=8.04, R²=0.9213\n",
      "Validation: RMSE=22.20, MAE=18.01, R²=0.6371\n",
      "Test: RMSE=22.14, MAE=17.92, R²=0.6400\n"
     ]
    },
    {
     "data": {
      "text/plain": [
       "(22.136154089078417, 17.9150171724937, 0.6400396517054615)"
      ]
     },
     "execution_count": 75,
     "metadata": {},
     "output_type": "execute_result"
    }
   ],
   "source": [
    "from sklearn.ensemble import RandomForestRegressor\n",
    "from sklearn.pipeline import Pipeline\n",
    "\n",
    "rf_pipe = Pipeline([\n",
    "    ('preprocessing', preprocessor),\n",
    "    ('rf', RandomForestRegressor(n_estimators=60, n_jobs=-1, random_state=42))\n",
    "])\n",
    "\n",
    "print(\"\\n--- Random Forest ---\")\n",
    "rf_pipe.fit(X_train, y_train)\n",
    "evaluate(rf_pipe, X_train, y_train, 'Train')\n",
    "evaluate(rf_pipe, X_val, y_val, 'Validation')\n",
    "evaluate(rf_pipe, X_test, y_test, 'Test')\n"
   ]
  },
  {
   "cell_type": "markdown",
   "id": "a09bcbe5",
   "metadata": {},
   "source": [
    "#### DecisionTree"
   ]
  },
  {
   "cell_type": "code",
   "execution_count": 76,
   "id": "9b0c2ae2",
   "metadata": {},
   "outputs": [
    {
     "name": "stdout",
     "output_type": "stream",
     "text": [
      "\n",
      "--- Decision Tree ---\n",
      "Train: RMSE=22.36, MAE=18.04, R²=0.6332\n",
      "Validation: RMSE=22.45, MAE=18.17, R²=0.6287\n",
      "Test: RMSE=22.50, MAE=18.16, R²=0.6282\n"
     ]
    },
    {
     "data": {
      "text/plain": [
       "(22.4970339781793, 18.15795295339086, 0.6282073042468278)"
      ]
     },
     "execution_count": 76,
     "metadata": {},
     "output_type": "execute_result"
    }
   ],
   "source": [
    "from sklearn.tree import DecisionTreeRegressor\n",
    "\n",
    "dt_pipe = Pipeline([\n",
    "    ('preprocessing', preprocessor),\n",
    "    ('dt', DecisionTreeRegressor(random_state=42, max_depth=10))\n",
    "])\n",
    "\n",
    "print(\"\\n--- Decision Tree ---\")\n",
    "dt_pipe.fit(X_train, y_train)\n",
    "evaluate(dt_pipe, X_train, y_train, 'Train')\n",
    "evaluate(dt_pipe, X_val, y_val, 'Validation')\n",
    "evaluate(dt_pipe, X_test, y_test, 'Test')\n"
   ]
  },
  {
   "cell_type": "markdown",
   "id": "8fd3aa8a",
   "metadata": {},
   "source": [
    "#### LightGBM"
   ]
  },
  {
   "cell_type": "code",
   "execution_count": 77,
   "id": "c72f4515",
   "metadata": {},
   "outputs": [
    {
     "name": "stdout",
     "output_type": "stream",
     "text": [
      "\n",
      "--- LightGBM ---\n"
     ]
    },
    {
     "name": "stderr",
     "output_type": "stream",
     "text": [
      "/Users/saikeerthan/NYP-AI/Year3/new_y3s1/lib/python3.11/site-packages/sklearn/utils/validation.py:2739: UserWarning: X does not have valid feature names, but LGBMRegressor was fitted with feature names\n",
      "  warnings.warn(\n"
     ]
    },
    {
     "name": "stdout",
     "output_type": "stream",
     "text": [
      "Train: RMSE=20.10, MAE=16.62, R²=0.7035\n",
      "Validation: RMSE=20.17, MAE=16.67, R²=0.7003\n",
      "Test: RMSE=20.14, MAE=16.64, R²=0.7021\n"
     ]
    },
    {
     "name": "stderr",
     "output_type": "stream",
     "text": [
      "/Users/saikeerthan/NYP-AI/Year3/new_y3s1/lib/python3.11/site-packages/sklearn/utils/validation.py:2739: UserWarning: X does not have valid feature names, but LGBMRegressor was fitted with feature names\n",
      "  warnings.warn(\n",
      "/Users/saikeerthan/NYP-AI/Year3/new_y3s1/lib/python3.11/site-packages/sklearn/utils/validation.py:2739: UserWarning: X does not have valid feature names, but LGBMRegressor was fitted with feature names\n",
      "  warnings.warn(\n"
     ]
    },
    {
     "data": {
      "text/plain": [
       "(20.138980088258272, 16.641220901984397, 0.702062430981378)"
      ]
     },
     "execution_count": 77,
     "metadata": {},
     "output_type": "execute_result"
    }
   ],
   "source": [
    "from lightgbm import LGBMRegressor\n",
    "\n",
    "lgbm_pipe = Pipeline([\n",
    "    ('preprocessing', preprocessor),\n",
    "    ('lgbm', LGBMRegressor(n_estimators=60, n_jobs=-1, random_state=42, verbose=-1))\n",
    "])\n",
    "\n",
    "print(\"\\n--- LightGBM ---\")\n",
    "lgbm_pipe.fit(X_train, y_train)\n",
    "evaluate(lgbm_pipe, X_train, y_train, 'Train')\n",
    "evaluate(lgbm_pipe, X_val, y_val, 'Validation')\n",
    "evaluate(lgbm_pipe, X_test, y_test, 'Test')\n"
   ]
  },
  {
   "cell_type": "markdown",
   "id": "c6c10cdb",
   "metadata": {},
   "source": [
    "##### RandomSearch"
   ]
  },
  {
   "cell_type": "code",
   "execution_count": 82,
   "id": "7a254879",
   "metadata": {},
   "outputs": [
    {
     "name": "stdout",
     "output_type": "stream",
     "text": [
      "Quick LGBM pipeline + hyperparameter search...\n",
      "Fitting 3 folds for each of 12 candidates, totalling 36 fits\n"
     ]
    },
    {
     "name": "stderr",
     "output_type": "stream",
     "text": [
      "/Users/saikeerthan/NYP-AI/Year3/new_y3s1/lib/python3.11/site-packages/sklearn/utils/validation.py:2739: UserWarning: X does not have valid feature names, but LGBMRegressor was fitted with feature names\n",
      "  warnings.warn(\n"
     ]
    },
    {
     "name": "stdout",
     "output_type": "stream",
     "text": [
      "[CV] END lgbm__colsample_bytree=0.8, lgbm__learning_rate=0.1, lgbm__max_depth=7, lgbm__num_leaves=63, lgbm__reg_alpha=0, lgbm__reg_lambda=0.5; total time=   2.8s\n"
     ]
    },
    {
     "name": "stderr",
     "output_type": "stream",
     "text": [
      "/Users/saikeerthan/NYP-AI/Year3/new_y3s1/lib/python3.11/site-packages/sklearn/utils/validation.py:2739: UserWarning: X does not have valid feature names, but LGBMRegressor was fitted with feature names\n",
      "  warnings.warn(\n"
     ]
    },
    {
     "name": "stdout",
     "output_type": "stream",
     "text": [
      "[CV] END lgbm__colsample_bytree=0.8, lgbm__learning_rate=0.1, lgbm__max_depth=7, lgbm__num_leaves=63, lgbm__reg_alpha=0, lgbm__reg_lambda=0.5; total time=   3.1s\n",
      "[CV] END lgbm__colsample_bytree=0.8, lgbm__learning_rate=0.1, lgbm__max_depth=7, lgbm__num_leaves=63, lgbm__reg_alpha=0, lgbm__reg_lambda=0.5; total time=   3.2s\n"
     ]
    },
    {
     "name": "stderr",
     "output_type": "stream",
     "text": [
      "/Users/saikeerthan/NYP-AI/Year3/new_y3s1/lib/python3.11/site-packages/sklearn/utils/validation.py:2739: UserWarning: X does not have valid feature names, but LGBMRegressor was fitted with feature names\n",
      "  warnings.warn(\n"
     ]
    },
    {
     "name": "stdout",
     "output_type": "stream",
     "text": [
      "[CV] END lgbm__colsample_bytree=1.0, lgbm__learning_rate=0.05, lgbm__max_depth=10, lgbm__num_leaves=15, lgbm__reg_alpha=0, lgbm__reg_lambda=0.5; total time=   2.7s\n",
      "[CV] END lgbm__colsample_bytree=1.0, lgbm__learning_rate=0.05, lgbm__max_depth=10, lgbm__num_leaves=15, lgbm__reg_alpha=0, lgbm__reg_lambda=0.5; total time=   2.0s\n"
     ]
    },
    {
     "name": "stderr",
     "output_type": "stream",
     "text": [
      "/Users/saikeerthan/NYP-AI/Year3/new_y3s1/lib/python3.11/site-packages/sklearn/utils/validation.py:2739: UserWarning: X does not have valid feature names, but LGBMRegressor was fitted with feature names\n",
      "  warnings.warn(\n",
      "/Users/saikeerthan/NYP-AI/Year3/new_y3s1/lib/python3.11/site-packages/sklearn/utils/validation.py:2739: UserWarning: X does not have valid feature names, but LGBMRegressor was fitted with feature names\n",
      "  warnings.warn(\n"
     ]
    },
    {
     "name": "stdout",
     "output_type": "stream",
     "text": [
      "[CV] END lgbm__colsample_bytree=1.0, lgbm__learning_rate=0.05, lgbm__max_depth=10, lgbm__num_leaves=15, lgbm__reg_alpha=0, lgbm__reg_lambda=0.5; total time=   2.2s\n"
     ]
    },
    {
     "name": "stderr",
     "output_type": "stream",
     "text": [
      "/Users/saikeerthan/NYP-AI/Year3/new_y3s1/lib/python3.11/site-packages/sklearn/utils/validation.py:2739: UserWarning: X does not have valid feature names, but LGBMRegressor was fitted with feature names\n",
      "  warnings.warn(\n",
      "/Users/saikeerthan/NYP-AI/Year3/new_y3s1/lib/python3.11/site-packages/sklearn/utils/validation.py:2739: UserWarning: X does not have valid feature names, but LGBMRegressor was fitted with feature names\n",
      "  warnings.warn(\n",
      "/Users/saikeerthan/NYP-AI/Year3/new_y3s1/lib/python3.11/site-packages/sklearn/utils/validation.py:2739: UserWarning: X does not have valid feature names, but LGBMRegressor was fitted with feature names\n",
      "  warnings.warn(\n",
      "/Users/saikeerthan/NYP-AI/Year3/new_y3s1/lib/python3.11/site-packages/sklearn/utils/validation.py:2739: UserWarning: X does not have valid feature names, but LGBMRegressor was fitted with feature names\n",
      "  warnings.warn(\n"
     ]
    },
    {
     "name": "stdout",
     "output_type": "stream",
     "text": [
      "[CV] END lgbm__colsample_bytree=0.8, lgbm__learning_rate=0.1, lgbm__max_depth=-1, lgbm__num_leaves=127, lgbm__reg_alpha=0.5, lgbm__reg_lambda=0; total time=   7.2s\n",
      "[CV] END lgbm__colsample_bytree=0.8, lgbm__learning_rate=0.1, lgbm__max_depth=-1, lgbm__num_leaves=127, lgbm__reg_alpha=0.5, lgbm__reg_lambda=0; total time=   7.4s\n",
      "[CV] END lgbm__colsample_bytree=0.8, lgbm__learning_rate=0.1, lgbm__max_depth=-1, lgbm__num_leaves=127, lgbm__reg_alpha=0.5, lgbm__reg_lambda=0; total time=   7.5s\n"
     ]
    },
    {
     "name": "stderr",
     "output_type": "stream",
     "text": [
      "/Users/saikeerthan/NYP-AI/Year3/new_y3s1/lib/python3.11/site-packages/sklearn/utils/validation.py:2739: UserWarning: X does not have valid feature names, but LGBMRegressor was fitted with feature names\n",
      "  warnings.warn(\n"
     ]
    },
    {
     "name": "stdout",
     "output_type": "stream",
     "text": [
      "[CV] END lgbm__colsample_bytree=1.0, lgbm__learning_rate=0.01, lgbm__max_depth=15, lgbm__num_leaves=31, lgbm__reg_alpha=0.1, lgbm__reg_lambda=0.5; total time=   3.3s\n",
      "[CV] END lgbm__colsample_bytree=1.0, lgbm__learning_rate=0.01, lgbm__max_depth=15, lgbm__num_leaves=31, lgbm__reg_alpha=0.1, lgbm__reg_lambda=0.5; total time=   3.4s\n"
     ]
    },
    {
     "name": "stderr",
     "output_type": "stream",
     "text": [
      "/Users/saikeerthan/NYP-AI/Year3/new_y3s1/lib/python3.11/site-packages/sklearn/utils/validation.py:2739: UserWarning: X does not have valid feature names, but LGBMRegressor was fitted with feature names\n",
      "  warnings.warn(\n",
      "/Users/saikeerthan/NYP-AI/Year3/new_y3s1/lib/python3.11/site-packages/sklearn/utils/validation.py:2739: UserWarning: X does not have valid feature names, but LGBMRegressor was fitted with feature names\n",
      "  warnings.warn(\n"
     ]
    },
    {
     "name": "stdout",
     "output_type": "stream",
     "text": [
      "[CV] END lgbm__colsample_bytree=1.0, lgbm__learning_rate=0.01, lgbm__max_depth=15, lgbm__num_leaves=31, lgbm__reg_alpha=0.1, lgbm__reg_lambda=0.5; total time=   3.4s\n",
      "[CV] END lgbm__colsample_bytree=0.8, lgbm__learning_rate=0.01, lgbm__max_depth=5, lgbm__num_leaves=31, lgbm__reg_alpha=0.1, lgbm__reg_lambda=0.5; total time=   2.8s\n",
      "[CV] END lgbm__colsample_bytree=0.8, lgbm__learning_rate=0.01, lgbm__max_depth=15, lgbm__num_leaves=127, lgbm__reg_alpha=0, lgbm__reg_lambda=0; total time=   8.2s\n",
      "[CV] END lgbm__colsample_bytree=0.8, lgbm__learning_rate=0.01, lgbm__max_depth=15, lgbm__num_leaves=127, lgbm__reg_alpha=0, lgbm__reg_lambda=0; total time=   7.7s\n"
     ]
    },
    {
     "name": "stderr",
     "output_type": "stream",
     "text": [
      "/Users/saikeerthan/NYP-AI/Year3/new_y3s1/lib/python3.11/site-packages/sklearn/utils/validation.py:2739: UserWarning: X does not have valid feature names, but LGBMRegressor was fitted with feature names\n",
      "  warnings.warn(\n",
      "/Users/saikeerthan/NYP-AI/Year3/new_y3s1/lib/python3.11/site-packages/sklearn/utils/validation.py:2739: UserWarning: X does not have valid feature names, but LGBMRegressor was fitted with feature names\n",
      "  warnings.warn(\n",
      "/Users/saikeerthan/NYP-AI/Year3/new_y3s1/lib/python3.11/site-packages/sklearn/utils/validation.py:2739: UserWarning: X does not have valid feature names, but LGBMRegressor was fitted with feature names\n",
      "  warnings.warn(\n",
      "/Users/saikeerthan/NYP-AI/Year3/new_y3s1/lib/python3.11/site-packages/sklearn/utils/validation.py:2739: UserWarning: X does not have valid feature names, but LGBMRegressor was fitted with feature names\n",
      "  warnings.warn(\n",
      "/Users/saikeerthan/NYP-AI/Year3/new_y3s1/lib/python3.11/site-packages/sklearn/utils/validation.py:2739: UserWarning: X does not have valid feature names, but LGBMRegressor was fitted with feature names\n",
      "  warnings.warn(\n"
     ]
    },
    {
     "name": "stdout",
     "output_type": "stream",
     "text": [
      "[CV] END lgbm__colsample_bytree=0.8, lgbm__learning_rate=0.01, lgbm__max_depth=5, lgbm__num_leaves=31, lgbm__reg_alpha=0.1, lgbm__reg_lambda=0.5; total time=   2.6s\n",
      "[CV] END lgbm__colsample_bytree=0.8, lgbm__learning_rate=0.01, lgbm__max_depth=15, lgbm__num_leaves=127, lgbm__reg_alpha=0, lgbm__reg_lambda=0; total time=   7.8s\n"
     ]
    },
    {
     "name": "stderr",
     "output_type": "stream",
     "text": [
      "/Users/saikeerthan/NYP-AI/Year3/new_y3s1/lib/python3.11/site-packages/sklearn/utils/validation.py:2739: UserWarning: X does not have valid feature names, but LGBMRegressor was fitted with feature names\n",
      "  warnings.warn(\n",
      "/Users/saikeerthan/NYP-AI/Year3/new_y3s1/lib/python3.11/site-packages/sklearn/utils/validation.py:2739: UserWarning: X does not have valid feature names, but LGBMRegressor was fitted with feature names\n",
      "  warnings.warn(\n"
     ]
    },
    {
     "name": "stdout",
     "output_type": "stream",
     "text": [
      "[CV] END lgbm__colsample_bytree=0.8, lgbm__learning_rate=0.01, lgbm__max_depth=5, lgbm__num_leaves=31, lgbm__reg_alpha=0.1, lgbm__reg_lambda=0.5; total time=   2.5s\n",
      "[CV] END lgbm__colsample_bytree=0.8, lgbm__learning_rate=0.1, lgbm__max_depth=10, lgbm__num_leaves=15, lgbm__reg_alpha=0.1, lgbm__reg_lambda=0.5; total time=   1.8s\n"
     ]
    },
    {
     "name": "stderr",
     "output_type": "stream",
     "text": [
      "/Users/saikeerthan/NYP-AI/Year3/new_y3s1/lib/python3.11/site-packages/sklearn/utils/validation.py:2739: UserWarning: X does not have valid feature names, but LGBMRegressor was fitted with feature names\n",
      "  warnings.warn(\n",
      "/Users/saikeerthan/NYP-AI/Year3/new_y3s1/lib/python3.11/site-packages/sklearn/utils/validation.py:2739: UserWarning: X does not have valid feature names, but LGBMRegressor was fitted with feature names\n",
      "  warnings.warn(\n"
     ]
    },
    {
     "name": "stdout",
     "output_type": "stream",
     "text": [
      "[CV] END lgbm__colsample_bytree=0.8, lgbm__learning_rate=0.1, lgbm__max_depth=10, lgbm__num_leaves=15, lgbm__reg_alpha=0.1, lgbm__reg_lambda=0.5; total time=   1.9s\n",
      "[CV] END lgbm__colsample_bytree=0.8, lgbm__learning_rate=0.1, lgbm__max_depth=10, lgbm__num_leaves=15, lgbm__reg_alpha=0.1, lgbm__reg_lambda=0.5; total time=   1.7s\n"
     ]
    },
    {
     "name": "stderr",
     "output_type": "stream",
     "text": [
      "/Users/saikeerthan/NYP-AI/Year3/new_y3s1/lib/python3.11/site-packages/sklearn/utils/validation.py:2739: UserWarning: X does not have valid feature names, but LGBMRegressor was fitted with feature names\n",
      "  warnings.warn(\n"
     ]
    },
    {
     "name": "stdout",
     "output_type": "stream",
     "text": [
      "[CV] END lgbm__colsample_bytree=0.7, lgbm__learning_rate=0.05, lgbm__max_depth=5, lgbm__num_leaves=127, lgbm__reg_alpha=0.5, lgbm__reg_lambda=0.1; total time=   1.7s\n"
     ]
    },
    {
     "name": "stderr",
     "output_type": "stream",
     "text": [
      "/Users/saikeerthan/NYP-AI/Year3/new_y3s1/lib/python3.11/site-packages/sklearn/utils/validation.py:2739: UserWarning: X does not have valid feature names, but LGBMRegressor was fitted with feature names\n",
      "  warnings.warn(\n"
     ]
    },
    {
     "name": "stdout",
     "output_type": "stream",
     "text": [
      "[CV] END lgbm__colsample_bytree=0.7, lgbm__learning_rate=0.05, lgbm__max_depth=5, lgbm__num_leaves=127, lgbm__reg_alpha=0.5, lgbm__reg_lambda=0.1; total time=   1.8s\n",
      "[CV] END lgbm__colsample_bytree=0.7, lgbm__learning_rate=0.05, lgbm__max_depth=5, lgbm__num_leaves=127, lgbm__reg_alpha=0.5, lgbm__reg_lambda=0.1; total time=   1.8s\n"
     ]
    },
    {
     "name": "stderr",
     "output_type": "stream",
     "text": [
      "/Users/saikeerthan/NYP-AI/Year3/new_y3s1/lib/python3.11/site-packages/sklearn/utils/validation.py:2739: UserWarning: X does not have valid feature names, but LGBMRegressor was fitted with feature names\n",
      "  warnings.warn(\n",
      "/Users/saikeerthan/NYP-AI/Year3/new_y3s1/lib/python3.11/site-packages/sklearn/utils/validation.py:2739: UserWarning: X does not have valid feature names, but LGBMRegressor was fitted with feature names\n",
      "  warnings.warn(\n",
      "/Users/saikeerthan/NYP-AI/Year3/new_y3s1/lib/python3.11/site-packages/sklearn/utils/validation.py:2739: UserWarning: X does not have valid feature names, but LGBMRegressor was fitted with feature names\n",
      "  warnings.warn(\n"
     ]
    },
    {
     "name": "stdout",
     "output_type": "stream",
     "text": [
      "[CV] END lgbm__colsample_bytree=1.0, lgbm__learning_rate=0.1, lgbm__max_depth=-1, lgbm__num_leaves=31, lgbm__reg_alpha=0.1, lgbm__reg_lambda=0; total time=   2.7s\n"
     ]
    },
    {
     "name": "stderr",
     "output_type": "stream",
     "text": [
      "/Users/saikeerthan/NYP-AI/Year3/new_y3s1/lib/python3.11/site-packages/sklearn/utils/validation.py:2739: UserWarning: X does not have valid feature names, but LGBMRegressor was fitted with feature names\n",
      "  warnings.warn(\n"
     ]
    },
    {
     "name": "stdout",
     "output_type": "stream",
     "text": [
      "[CV] END lgbm__colsample_bytree=1.0, lgbm__learning_rate=0.1, lgbm__max_depth=-1, lgbm__num_leaves=31, lgbm__reg_alpha=0.1, lgbm__reg_lambda=0; total time=   3.1s\n",
      "[CV] END lgbm__colsample_bytree=1.0, lgbm__learning_rate=0.1, lgbm__max_depth=-1, lgbm__num_leaves=31, lgbm__reg_alpha=0.1, lgbm__reg_lambda=0; total time=   3.1s\n"
     ]
    },
    {
     "name": "stderr",
     "output_type": "stream",
     "text": [
      "/Users/saikeerthan/NYP-AI/Year3/new_y3s1/lib/python3.11/site-packages/sklearn/utils/validation.py:2739: UserWarning: X does not have valid feature names, but LGBMRegressor was fitted with feature names\n",
      "  warnings.warn(\n",
      "/Users/saikeerthan/NYP-AI/Year3/new_y3s1/lib/python3.11/site-packages/sklearn/utils/validation.py:2739: UserWarning: X does not have valid feature names, but LGBMRegressor was fitted with feature names\n",
      "  warnings.warn(\n"
     ]
    },
    {
     "name": "stdout",
     "output_type": "stream",
     "text": [
      "[CV] END lgbm__colsample_bytree=1.0, lgbm__learning_rate=0.05, lgbm__max_depth=-1, lgbm__num_leaves=15, lgbm__reg_alpha=0.5, lgbm__reg_lambda=0; total time=   2.3s\n",
      "[CV] END lgbm__colsample_bytree=1.0, lgbm__learning_rate=0.1, lgbm__max_depth=10, lgbm__num_leaves=127, lgbm__reg_alpha=0, lgbm__reg_lambda=0; total time=   6.3s\n",
      "[CV] END lgbm__colsample_bytree=1.0, lgbm__learning_rate=0.05, lgbm__max_depth=-1, lgbm__num_leaves=15, lgbm__reg_alpha=0.5, lgbm__reg_lambda=0; total time=   2.3s\n"
     ]
    },
    {
     "name": "stderr",
     "output_type": "stream",
     "text": [
      "/Users/saikeerthan/NYP-AI/Year3/new_y3s1/lib/python3.11/site-packages/sklearn/utils/validation.py:2739: UserWarning: X does not have valid feature names, but LGBMRegressor was fitted with feature names\n",
      "  warnings.warn(\n",
      "/Users/saikeerthan/NYP-AI/Year3/new_y3s1/lib/python3.11/site-packages/sklearn/utils/validation.py:2739: UserWarning: X does not have valid feature names, but LGBMRegressor was fitted with feature names\n",
      "  warnings.warn(\n"
     ]
    },
    {
     "name": "stdout",
     "output_type": "stream",
     "text": [
      "[CV] END lgbm__colsample_bytree=1.0, lgbm__learning_rate=0.1, lgbm__max_depth=10, lgbm__num_leaves=127, lgbm__reg_alpha=0, lgbm__reg_lambda=0; total time=   6.7s\n",
      "[CV] END lgbm__colsample_bytree=1.0, lgbm__learning_rate=0.1, lgbm__max_depth=10, lgbm__num_leaves=127, lgbm__reg_alpha=0, lgbm__reg_lambda=0; total time=   6.4s\n",
      "[CV] END lgbm__colsample_bytree=1.0, lgbm__learning_rate=0.05, lgbm__max_depth=-1, lgbm__num_leaves=15, lgbm__reg_alpha=0.5, lgbm__reg_lambda=0; total time=   2.0s\n"
     ]
    },
    {
     "name": "stderr",
     "output_type": "stream",
     "text": [
      "/Users/saikeerthan/NYP-AI/Year3/new_y3s1/lib/python3.11/site-packages/sklearn/utils/validation.py:2739: UserWarning: X does not have valid feature names, but LGBMRegressor was fitted with feature names\n",
      "  warnings.warn(\n",
      "/Users/saikeerthan/NYP-AI/Year3/new_y3s1/lib/python3.11/site-packages/sklearn/utils/validation.py:2739: UserWarning: X does not have valid feature names, but LGBMRegressor was fitted with feature names\n",
      "  warnings.warn(\n",
      "/Users/saikeerthan/NYP-AI/Year3/new_y3s1/lib/python3.11/site-packages/sklearn/utils/validation.py:2739: UserWarning: X does not have valid feature names, but LGBMRegressor was fitted with feature names\n",
      "  warnings.warn(\n"
     ]
    },
    {
     "name": "stdout",
     "output_type": "stream",
     "text": [
      "[CV] END lgbm__colsample_bytree=0.7, lgbm__learning_rate=0.01, lgbm__max_depth=-1, lgbm__num_leaves=31, lgbm__reg_alpha=0.5, lgbm__reg_lambda=0; total time=   2.6s\n"
     ]
    },
    {
     "name": "stderr",
     "output_type": "stream",
     "text": [
      "/Users/saikeerthan/NYP-AI/Year3/new_y3s1/lib/python3.11/site-packages/sklearn/utils/validation.py:2739: UserWarning: X does not have valid feature names, but LGBMRegressor was fitted with feature names\n",
      "  warnings.warn(\n"
     ]
    },
    {
     "name": "stdout",
     "output_type": "stream",
     "text": [
      "[CV] END lgbm__colsample_bytree=0.7, lgbm__learning_rate=0.01, lgbm__max_depth=-1, lgbm__num_leaves=31, lgbm__reg_alpha=0.5, lgbm__reg_lambda=0; total time=   2.0s\n"
     ]
    },
    {
     "name": "stderr",
     "output_type": "stream",
     "text": [
      "/Users/saikeerthan/NYP-AI/Year3/new_y3s1/lib/python3.11/site-packages/sklearn/utils/validation.py:2739: UserWarning: X does not have valid feature names, but LGBMRegressor was fitted with feature names\n",
      "  warnings.warn(\n"
     ]
    },
    {
     "name": "stdout",
     "output_type": "stream",
     "text": [
      "[CV] END lgbm__colsample_bytree=0.7, lgbm__learning_rate=0.01, lgbm__max_depth=-1, lgbm__num_leaves=31, lgbm__reg_alpha=0.5, lgbm__reg_lambda=0; total time=   1.6s\n",
      "Fit time: 27.5 seconds\n",
      "Best params: {'lgbm__reg_lambda': 0, 'lgbm__reg_alpha': 0.1, 'lgbm__num_leaves': 31, 'lgbm__max_depth': -1, 'lgbm__learning_rate': 0.1, 'lgbm__colsample_bytree': 1.0}\n",
      "\n",
      "Performance:\n"
     ]
    },
    {
     "name": "stderr",
     "output_type": "stream",
     "text": [
      "/Users/saikeerthan/NYP-AI/Year3/new_y3s1/lib/python3.11/site-packages/sklearn/utils/validation.py:2739: UserWarning: X does not have valid feature names, but LGBMRegressor was fitted with feature names\n",
      "  warnings.warn(\n"
     ]
    },
    {
     "name": "stdout",
     "output_type": "stream",
     "text": [
      "Train: RMSE=19.99, MAE=16.53, R²=0.7070\n",
      "Validation: RMSE=20.09, MAE=16.62, R²=0.7028\n"
     ]
    },
    {
     "name": "stderr",
     "output_type": "stream",
     "text": [
      "/Users/saikeerthan/NYP-AI/Year3/new_y3s1/lib/python3.11/site-packages/sklearn/utils/validation.py:2739: UserWarning: X does not have valid feature names, but LGBMRegressor was fitted with feature names\n",
      "  warnings.warn(\n",
      "/Users/saikeerthan/NYP-AI/Year3/new_y3s1/lib/python3.11/site-packages/sklearn/utils/validation.py:2739: UserWarning: X does not have valid feature names, but LGBMRegressor was fitted with feature names\n",
      "  warnings.warn(\n"
     ]
    },
    {
     "name": "stdout",
     "output_type": "stream",
     "text": [
      "Test: RMSE=20.05, MAE=16.58, R²=0.7047\n"
     ]
    },
    {
     "data": {
      "text/plain": [
       "(20.0506150717309, 16.580960573417517, 0.7046712522073441)"
      ]
     },
     "execution_count": 82,
     "metadata": {},
     "output_type": "execute_result"
    }
   ],
   "source": [
    "from sklearn.compose import ColumnTransformer\n",
    "from sklearn.preprocessing import OneHotEncoder, StandardScaler\n",
    "from sklearn.feature_selection import SelectKBest, f_regression\n",
    "from sklearn.pipeline import Pipeline\n",
    "from sklearn.model_selection import RandomizedSearchCV\n",
    "\n",
    "from lightgbm import LGBMRegressor\n",
    "\n",
    "# -- Preprocessing Pipeline --\n",
    "preprocessor = ColumnTransformer(\n",
    "    transformers=[\n",
    "        ('num', StandardScaler(), num_cols),\n",
    "        ('cat', OneHotEncoder(handle_unknown='ignore', sparse_output=False), cat_cols)\n",
    "    ]\n",
    ")\n",
    "\n",
    "# -- Full Modeling Pipeline: Preprocessing + Feature Selection + LGBM --\n",
    "# -- LGBM Model with more trees --\n",
    "pipe = Pipeline([\n",
    "    ('preprocessing', preprocessor),\n",
    "    ('lgbm', LGBMRegressor(n_estimators=100, n_jobs=-1, random_state=42, verbose=-1))\n",
    "])\n",
    "\n",
    "param_dist = {\n",
    "    'lgbm__max_depth': [5, 7, 10, 15, -1],\n",
    "    'lgbm__learning_rate': [0.01, 0.05, 0.1],\n",
    "    'lgbm__num_leaves': [15, 31, 63, 127],\n",
    "    'lgbm__reg_alpha': [0, 0.1, 0.5],\n",
    "    'lgbm__reg_lambda': [0, 0.1, 0.5],\n",
    "    'lgbm__colsample_bytree': [0.7, 0.8, 1.0],\n",
    "}\n",
    "\n",
    "random_search = RandomizedSearchCV(\n",
    "    pipe,\n",
    "    param_distributions=param_dist,\n",
    "    n_iter=12,     # Up to 20 for even better tuning if time allows\n",
    "    cv=3,\n",
    "    n_jobs=-1,\n",
    "    verbose=2,\n",
    "    scoring='neg_root_mean_squared_error'\n",
    ")\n",
    "\n",
    "\n",
    "# -- Fit (should complete in under 5 mins) --\n",
    "import time\n",
    "start = time.time()\n",
    "print(\"Quick LGBM pipeline + hyperparameter search...\")\n",
    "random_search.fit(X_train, y_train)\n",
    "print(f\"Fit time: {time.time() - start:.1f} seconds\")\n",
    "print(\"Best params:\", random_search.best_params_)\n",
    "\n",
    "# -- Evaluate --\n",
    "def evaluate(model, X, y, label='Set'):\n",
    "    from sklearn.metrics import mean_squared_error, mean_absolute_error, r2_score\n",
    "    y_pred = model.predict(X)\n",
    "    rmse = np.sqrt(mean_squared_error(y, y_pred))\n",
    "    mae = mean_absolute_error(y, y_pred)\n",
    "    r2 = r2_score(y, y_pred)\n",
    "    print(f\"{label}: RMSE={rmse:.2f}, MAE={mae:.2f}, R²={r2:.4f}\")\n",
    "    return rmse, mae, r2\n",
    "\n",
    "print(\"\\nPerformance:\")\n",
    "evaluate(random_search, X_train, y_train, label='Train')\n",
    "evaluate(random_search, X_val, y_val, label='Validation')\n",
    "evaluate(random_search, X_test, y_test, label='Test')\n"
   ]
  },
  {
   "cell_type": "markdown",
   "id": "19d77875",
   "metadata": {},
   "source": [
    "#### XGBoost"
   ]
  },
  {
   "cell_type": "code",
   "execution_count": 78,
   "id": "7e5f780d",
   "metadata": {},
   "outputs": [
    {
     "name": "stdout",
     "output_type": "stream",
     "text": [
      "\n",
      "--- XGBoost ---\n",
      "Train: RMSE=19.90, MAE=16.44, R²=0.7095\n",
      "Validation: RMSE=20.15, MAE=16.65, R²=0.7008\n",
      "Test: RMSE=20.13, MAE=16.62, R²=0.7023\n"
     ]
    },
    {
     "data": {
      "text/plain": [
       "(20.131489796930165, 16.622632362919326, 0.702284013620911)"
      ]
     },
     "execution_count": 78,
     "metadata": {},
     "output_type": "execute_result"
    }
   ],
   "source": [
    "from xgboost import XGBRegressor\n",
    "\n",
    "xgb_pipe = Pipeline([\n",
    "    ('preprocessing', preprocessor),\n",
    "    ('xgb', XGBRegressor(n_estimators=60, n_jobs=-1, random_state=42, verbosity=0))\n",
    "])\n",
    "\n",
    "print(\"\\n--- XGBoost ---\")\n",
    "xgb_pipe.fit(X_train, y_train)\n",
    "evaluate(xgb_pipe, X_train, y_train, 'Train')\n",
    "evaluate(xgb_pipe, X_val, y_val, 'Validation')\n",
    "evaluate(xgb_pipe, X_test, y_test, 'Test')\n"
   ]
  },
  {
   "cell_type": "markdown",
   "id": "ba668cc1",
   "metadata": {},
   "source": [
    "### Stacked Model Development Round 1"
   ]
  },
  {
   "cell_type": "code",
   "execution_count": 50,
   "id": "e867a2db",
   "metadata": {},
   "outputs": [],
   "source": [
    "from sklearn.linear_model import Ridge\n",
    "from sklearn.tree import DecisionTreeRegressor\n",
    "from sklearn.ensemble import RandomForestRegressor, ExtraTreesRegressor\n",
    "from sklearn.neighbors import KNeighborsRegressor\n",
    "from sklearn.svm import SVR\n",
    "from sklearn.neural_network import MLPRegressor\n",
    "from xgboost import XGBRegressor\n",
    "from lightgbm import LGBMRegressor\n",
    "from sklearn.ensemble import StackingRegressor"
   ]
  },
  {
   "cell_type": "code",
   "execution_count": null,
   "id": "d44d33a6",
   "metadata": {},
   "outputs": [],
   "source": [
    "# # base_estimators = [\n",
    "# #     ('ridge', Ridge()),\n",
    "# #     ('dt', DecisionTreeRegressor(random_state=42)),\n",
    "# #     ('rf', RandomForestRegressor(random_state=42)),\n",
    "# #     ('xgb', XGBRegressor(random_state=42, verbosity=0)),\n",
    "# #     ('lgbm', LGBMRegressor(random_state=42, verbose=-1)),\n",
    "# #     ('knn', KNeighborsRegressor(n_neighbors=7)),\n",
    "# #     ('svr', SVR()),\n",
    "# #     ('extra', ExtraTreesRegressor(random_state=42)),\n",
    "# #     ('mlp', MLPRegressor(random_state=42, max_iter=200))\n",
    "# # ]\n",
    "# # removed earlier cuz took too long to run\n",
    "\n",
    "base_estimators = [\n",
    "    ('ridge', Ridge()),\n",
    "    ('dt', DecisionTreeRegressor(random_state=42)),\n",
    "    ('rf', RandomForestRegressor(n_estimators=30, n_jobs=-1, random_state=42)),\n",
    "    ('xgb', XGBRegressor(n_estimators=30, n_jobs=-1, random_state=42, verbosity=0)),\n",
    "    ('lgbm', LGBMRegressor(n_estimators=30, n_jobs=-1, random_state=42, verbose=-1)),\n",
    "    ('extra', ExtraTreesRegressor(n_estimators=30, n_jobs=-1, random_state=42))\n",
    "    # KNN, SVR, and MLP omitted for speed\n",
    "]\n"
   ]
  },
  {
   "cell_type": "code",
   "execution_count": 54,
   "id": "5353cf36",
   "metadata": {},
   "outputs": [],
   "source": [
    "ensemble = StackingRegressor(\n",
    "    estimators=base_estimators,\n",
    "    final_estimator=Ridge(),\n",
    "    passthrough=True,\n",
    "    n_jobs=-1\n",
    ")\n"
   ]
  },
  {
   "cell_type": "code",
   "execution_count": 55,
   "id": "61d6fee6",
   "metadata": {},
   "outputs": [],
   "source": [
    "full_pipeline = Pipeline([\n",
    "    ('preprocessing', preprocessor),\n",
    "    ('ensemble', ensemble)\n",
    "])\n"
   ]
  },
  {
   "cell_type": "code",
   "execution_count": 56,
   "id": "e98d3029",
   "metadata": {},
   "outputs": [
    {
     "name": "stdout",
     "output_type": "stream",
     "text": [
      "Fitting fast ensemble model...\n"
     ]
    },
    {
     "name": "stderr",
     "output_type": "stream",
     "text": [
      "/Users/saikeerthan/NYP-AI/Year3/new_y3s1/lib/python3.11/site-packages/sklearn/utils/validation.py:2739: UserWarning: X does not have valid feature names, but LGBMRegressor was fitted with feature names\n",
      "  warnings.warn(\n",
      "/Users/saikeerthan/NYP-AI/Year3/new_y3s1/lib/python3.11/site-packages/sklearn/utils/validation.py:2739: UserWarning: X does not have valid feature names, but LGBMRegressor was fitted with feature names\n",
      "  warnings.warn(\n",
      "/Users/saikeerthan/NYP-AI/Year3/new_y3s1/lib/python3.11/site-packages/sklearn/utils/validation.py:2739: UserWarning: X does not have valid feature names, but LGBMRegressor was fitted with feature names\n",
      "  warnings.warn(\n",
      "/Users/saikeerthan/NYP-AI/Year3/new_y3s1/lib/python3.11/site-packages/sklearn/utils/validation.py:2739: UserWarning: X does not have valid feature names, but LGBMRegressor was fitted with feature names\n",
      "  warnings.warn(\n",
      "/Users/saikeerthan/NYP-AI/Year3/new_y3s1/lib/python3.11/site-packages/sklearn/utils/validation.py:2739: UserWarning: X does not have valid feature names, but LGBMRegressor was fitted with feature names\n",
      "  warnings.warn(\n"
     ]
    },
    {
     "name": "stdout",
     "output_type": "stream",
     "text": [
      "Fit time: 71.6 seconds\n"
     ]
    }
   ],
   "source": [
    "import time\n",
    "start = time.time()\n",
    "print(\"Fitting fast ensemble model...\")\n",
    "full_pipeline.fit(X_train, y_train)\n",
    "print(f\"Fit time: {time.time() - start:.1f} seconds\")"
   ]
  },
  {
   "cell_type": "markdown",
   "id": "aa06dd72",
   "metadata": {},
   "source": [
    "#### Stacked Model Evaluation"
   ]
  },
  {
   "cell_type": "code",
   "execution_count": 57,
   "id": "93c3bf3f",
   "metadata": {},
   "outputs": [],
   "source": [
    "from sklearn.metrics import mean_squared_error, mean_absolute_error, r2_score\n",
    "def evaluate(model, X, y, label='Set'):\n",
    "    y_pred = model.predict(X)\n",
    "    rmse = np.sqrt(mean_squared_error(y, y_pred))\n",
    "    mae = mean_absolute_error(y, y_pred)\n",
    "    r2 = r2_score(y, y_pred)\n",
    "    print(f\"{label}: RMSE={rmse:.2f}, MAE={mae:.2f}, R²={r2:.4f}\")\n",
    "    return rmse, mae, r2\n"
   ]
  },
  {
   "cell_type": "code",
   "execution_count": 58,
   "id": "0d050299",
   "metadata": {},
   "outputs": [
    {
     "name": "stdout",
     "output_type": "stream",
     "text": [
      "\n",
      "Performance:\n"
     ]
    },
    {
     "name": "stderr",
     "output_type": "stream",
     "text": [
      "/Users/saikeerthan/NYP-AI/Year3/new_y3s1/lib/python3.11/site-packages/sklearn/utils/validation.py:2739: UserWarning: X does not have valid feature names, but LGBMRegressor was fitted with feature names\n",
      "  warnings.warn(\n"
     ]
    },
    {
     "name": "stdout",
     "output_type": "stream",
     "text": [
      "Train: RMSE=19.53, MAE=16.14, R²=0.7202\n"
     ]
    },
    {
     "name": "stderr",
     "output_type": "stream",
     "text": [
      "/Users/saikeerthan/NYP-AI/Year3/new_y3s1/lib/python3.11/site-packages/sklearn/utils/validation.py:2739: UserWarning: X does not have valid feature names, but LGBMRegressor was fitted with feature names\n",
      "  warnings.warn(\n"
     ]
    },
    {
     "name": "stdout",
     "output_type": "stream",
     "text": [
      "Validation: RMSE=20.17, MAE=16.66, R²=0.7003\n"
     ]
    },
    {
     "name": "stderr",
     "output_type": "stream",
     "text": [
      "/Users/saikeerthan/NYP-AI/Year3/new_y3s1/lib/python3.11/site-packages/sklearn/utils/validation.py:2739: UserWarning: X does not have valid feature names, but LGBMRegressor was fitted with feature names\n",
      "  warnings.warn(\n"
     ]
    },
    {
     "name": "stdout",
     "output_type": "stream",
     "text": [
      "Test: RMSE=20.14, MAE=16.63, R²=0.7020\n"
     ]
    },
    {
     "data": {
      "text/plain": [
       "(20.141272395105425, 16.628445734796166, 0.7019946020053834)"
      ]
     },
     "execution_count": 58,
     "metadata": {},
     "output_type": "execute_result"
    }
   ],
   "source": [
    "print(\"\\nPerformance:\")\n",
    "evaluate(full_pipeline, X_train, y_train, label='Train')\n",
    "evaluate(full_pipeline, X_val, y_val, label='Validation')\n",
    "evaluate(full_pipeline, X_test, y_test, label='Test')"
   ]
  },
  {
   "cell_type": "code",
   "execution_count": 59,
   "id": "a30cc3a4",
   "metadata": {},
   "outputs": [
    {
     "name": "stdout",
     "output_type": "stream",
     "text": [
      "\n",
      "Top 10 Features by RandomForest:\n",
      "                  feature  importance\n",
      "0         yearsExperience    0.248906\n",
      "5         jobRole_janitor    0.167401\n",
      "1         distanceFromCBD    0.160903\n",
      "6          jobRole_junior    0.077964\n",
      "8          jobRole_senior    0.048018\n",
      "24     industry_education    0.029788\n",
      "7         jobRole_manager    0.028018\n",
      "12  education_high_school    0.023469\n",
      "28       industry_service    0.021723\n",
      "22          major_unknown    0.019742\n"
     ]
    }
   ],
   "source": [
    "# --- 10. (Optional) Feature Importance (from Random Forest/XGBoost) ---\n",
    "importances = full_pipeline.named_steps['ensemble'].estimators_[2].feature_importances_\n",
    "# Get feature names after preprocessing\n",
    "ohe = full_pipeline.named_steps['preprocessing'].named_transformers_['cat']\n",
    "feature_names = num_cols + list(ohe.get_feature_names_out(cat_cols))\n",
    "feature_importance_df = pd.DataFrame({'feature': feature_names, 'importance': importances})\n",
    "print(\"\\nTop 10 Features by RandomForest:\")\n",
    "print(feature_importance_df.sort_values('importance', ascending=False).head(10))"
   ]
  },
  {
   "cell_type": "code",
   "execution_count": null,
   "id": "7803970a",
   "metadata": {},
   "outputs": [],
   "source": []
  },
  {
   "cell_type": "markdown",
   "id": "1bdece95",
   "metadata": {},
   "source": [
    "### Stacking Model Round 2:"
   ]
  },
  {
   "cell_type": "code",
   "execution_count": 84,
   "id": "90f3f4ed",
   "metadata": {},
   "outputs": [
    {
     "name": "stdout",
     "output_type": "stream",
     "text": [
      "Fitting stacking ensemble (RF, LGBM, XGB)...\n"
     ]
    },
    {
     "name": "stderr",
     "output_type": "stream",
     "text": [
      "/Users/saikeerthan/NYP-AI/Year3/new_y3s1/lib/python3.11/site-packages/sklearn/utils/validation.py:2739: UserWarning: X does not have valid feature names, but LGBMRegressor was fitted with feature names\n",
      "  warnings.warn(\n",
      "/Users/saikeerthan/NYP-AI/Year3/new_y3s1/lib/python3.11/site-packages/sklearn/utils/validation.py:2739: UserWarning: X does not have valid feature names, but LGBMRegressor was fitted with feature names\n",
      "  warnings.warn(\n",
      "/Users/saikeerthan/NYP-AI/Year3/new_y3s1/lib/python3.11/site-packages/sklearn/utils/validation.py:2739: UserWarning: X does not have valid feature names, but LGBMRegressor was fitted with feature names\n",
      "  warnings.warn(\n",
      "/Users/saikeerthan/NYP-AI/Year3/new_y3s1/lib/python3.11/site-packages/sklearn/utils/validation.py:2739: UserWarning: X does not have valid feature names, but LGBMRegressor was fitted with feature names\n",
      "  warnings.warn(\n",
      "/Users/saikeerthan/NYP-AI/Year3/new_y3s1/lib/python3.11/site-packages/sklearn/utils/validation.py:2739: UserWarning: X does not have valid feature names, but LGBMRegressor was fitted with feature names\n",
      "  warnings.warn(\n"
     ]
    },
    {
     "name": "stdout",
     "output_type": "stream",
     "text": [
      "Fit time: 60.9 seconds\n",
      "\n",
      "Performance:\n"
     ]
    },
    {
     "name": "stderr",
     "output_type": "stream",
     "text": [
      "/Users/saikeerthan/NYP-AI/Year3/new_y3s1/lib/python3.11/site-packages/sklearn/utils/validation.py:2739: UserWarning: X does not have valid feature names, but LGBMRegressor was fitted with feature names\n",
      "  warnings.warn(\n",
      "/Users/saikeerthan/NYP-AI/Year3/new_y3s1/lib/python3.11/site-packages/sklearn/utils/validation.py:2739: UserWarning: X does not have valid feature names, but LGBMRegressor was fitted with feature names\n",
      "  warnings.warn(\n",
      "/Users/saikeerthan/NYP-AI/Year3/new_y3s1/lib/python3.11/site-packages/sklearn/utils/validation.py:2739: UserWarning: X does not have valid feature names, but LGBMRegressor was fitted with feature names\n",
      "  warnings.warn(\n"
     ]
    },
    {
     "name": "stdout",
     "output_type": "stream",
     "text": [
      "Train: RMSE=19.74, MAE=16.32, R²=0.7142\n",
      "Validation: RMSE=20.17, MAE=16.68, R²=0.7004\n"
     ]
    },
    {
     "name": "stderr",
     "output_type": "stream",
     "text": [
      "/Users/saikeerthan/NYP-AI/Year3/new_y3s1/lib/python3.11/site-packages/sklearn/utils/validation.py:2739: UserWarning: X does not have valid feature names, but LGBMRegressor was fitted with feature names\n",
      "  warnings.warn(\n",
      "/Users/saikeerthan/NYP-AI/Year3/new_y3s1/lib/python3.11/site-packages/sklearn/utils/validation.py:2739: UserWarning: X does not have valid feature names, but LGBMRegressor was fitted with feature names\n",
      "  warnings.warn(\n",
      "/Users/saikeerthan/NYP-AI/Year3/new_y3s1/lib/python3.11/site-packages/sklearn/utils/validation.py:2739: UserWarning: X does not have valid feature names, but LGBMRegressor was fitted with feature names\n",
      "  warnings.warn(\n"
     ]
    },
    {
     "name": "stdout",
     "output_type": "stream",
     "text": [
      "Test: RMSE=20.14, MAE=16.64, R²=0.7021\n"
     ]
    },
    {
     "data": {
      "text/plain": [
       "(20.13863066573739, 16.641523921638797, 0.7020727696572022)"
      ]
     },
     "execution_count": 84,
     "metadata": {},
     "output_type": "execute_result"
    }
   ],
   "source": [
    "from sklearn.compose import ColumnTransformer\n",
    "from sklearn.preprocessing import StandardScaler, OneHotEncoder, PolynomialFeatures\n",
    "from sklearn.pipeline import Pipeline\n",
    "from sklearn.ensemble import StackingRegressor, RandomForestRegressor\n",
    "from lightgbm import LGBMRegressor\n",
    "from xgboost import XGBRegressor\n",
    "# from catboost import CatBoostRegressor  # Uncomment if CatBoost is installed\n",
    "\n",
    "# -- Preprocessing: Polynomial only for numerics --\n",
    "preprocessor = ColumnTransformer([\n",
    "    ('poly_num', Pipeline([\n",
    "        ('scale', StandardScaler()),\n",
    "        ('poly', PolynomialFeatures(degree=2, include_bias=False))\n",
    "    ]), num_cols),\n",
    "    ('cat', OneHotEncoder(handle_unknown='ignore', sparse_output=False), cat_cols)\n",
    "])\n",
    "\n",
    "# -- Define essential regressors --\n",
    "estimators = [\n",
    "    ('rf', RandomForestRegressor(n_estimators=60, max_depth=10, n_jobs=-1, random_state=42)),\n",
    "    ('lgbm', LGBMRegressor(n_estimators=60, max_depth=10, n_jobs=-1, random_state=42, verbose=-1)),\n",
    "    ('xgb', XGBRegressor(n_estimators=60, max_depth=10, n_jobs=-1, random_state=42, verbosity=0)),\n",
    "    # ('cat', CatBoostRegressor(iterations=60, depth=6, random_state=42, verbose=0))  # Optional: Uncomment if you want to try CatBoost\n",
    "]\n",
    "\n",
    "# -- Stacking Ensemble with Ridge meta-model --\n",
    "ensemble = StackingRegressor(\n",
    "    estimators=estimators,\n",
    "    final_estimator=LGBMRegressor(n_estimators=30, max_depth=5, random_state=42, verbose=-1),\n",
    "    passthrough=True,\n",
    "    n_jobs=-1\n",
    ")\n",
    "\n",
    "pipeline = Pipeline([\n",
    "    ('preprocessing', preprocessor),\n",
    "    ('ensemble', ensemble)\n",
    "])\n",
    "\n",
    "# -- Train --\n",
    "import time\n",
    "start = time.time()\n",
    "print(\"Fitting stacking ensemble (RF, LGBM, XGB)...\")\n",
    "pipeline.fit(X_train, y_train)\n",
    "print(f\"Fit time: {time.time() - start:.1f} seconds\")\n",
    "\n",
    "# -- Evaluate --\n",
    "def evaluate(model, X, y, label='Set'):\n",
    "    from sklearn.metrics import mean_squared_error, mean_absolute_error, r2_score\n",
    "    y_pred = model.predict(X)\n",
    "    rmse = np.sqrt(mean_squared_error(y, y_pred))\n",
    "    mae = mean_absolute_error(y, y_pred)\n",
    "    r2 = r2_score(y, y_pred)\n",
    "    print(f\"{label}: RMSE={rmse:.2f}, MAE={mae:.2f}, R²={r2:.4f}\")\n",
    "    return rmse, mae, r2\n",
    "\n",
    "print(\"\\nPerformance:\")\n",
    "evaluate(pipeline, X_train, y_train, label='Train')\n",
    "evaluate(pipeline, X_val, y_val, label='Validation')\n",
    "evaluate(pipeline, X_test, y_test, label='Test')\n"
   ]
  },
  {
   "cell_type": "markdown",
   "id": "09b7cdab",
   "metadata": {},
   "source": [
    "## PySpark"
   ]
  },
  {
   "cell_type": "code",
   "execution_count": 1,
   "id": "0b9bc1eb",
   "metadata": {},
   "outputs": [],
   "source": [
    "from pyspark.sql import SparkSession\n",
    "from pyspark.sql.functions import col, when, trim, lower, count, mean, stddev, min, max"
   ]
  },
  {
   "cell_type": "code",
   "execution_count": 2,
   "id": "6311cb67",
   "metadata": {},
   "outputs": [],
   "source": [
    "import os\n",
    "os.environ['JAVA_HOME'] = '/Library/Java/JavaVirtualMachines/openjdk-11.jdk/Contents/Home'\n",
    "os.environ['PATH'] = f\"/Library/Java/JavaVirtualMachines/openjdk-11.jdk/Contents/Home/bin:{os.environ['PATH']}\""
   ]
  },
  {
   "cell_type": "markdown",
   "id": "1243aa4a",
   "metadata": {},
   "source": [
    "### Instantiate the Spark Connection"
   ]
  },
  {
   "cell_type": "code",
   "execution_count": 3,
   "id": "4e41048f",
   "metadata": {},
   "outputs": [
    {
     "name": "stderr",
     "output_type": "stream",
     "text": [
      "25/08/03 00:31:14 WARN Utils: Your hostname, Sais-Macbook-Air.local resolves to a loopback address: 127.0.0.1; using 192.168.0.14 instead (on interface en0)\n",
      "25/08/03 00:31:14 WARN Utils: Set SPARK_LOCAL_IP if you need to bind to another address\n",
      "Setting default log level to \"WARN\".\n",
      "To adjust logging level use sc.setLogLevel(newLevel). For SparkR, use setLogLevel(newLevel).\n",
      "25/08/03 00:31:15 WARN NativeCodeLoader: Unable to load native-hadoop library for your platform... using builtin-java classes where applicable\n"
     ]
    },
    {
     "name": "stdout",
     "output_type": "stream",
     "text": [
      "Spark session started....\n"
     ]
    }
   ],
   "source": [
    "spark = SparkSession.builder \\\n",
    "    .appName(\"BigDataAssignment-232594T\") \\\n",
    "    .getOrCreate()\n",
    "\n",
    "print(\"Spark session started....\")"
   ]
  },
  {
   "cell_type": "markdown",
   "id": "acbebe17",
   "metadata": {},
   "source": [
    "### PySpark Data Cleaning"
   ]
  },
  {
   "cell_type": "code",
   "execution_count": 6,
   "id": "5c795b8d",
   "metadata": {},
   "outputs": [
    {
     "name": "stderr",
     "output_type": "stream",
     "text": [
      "                                                                                \r"
     ]
    }
   ],
   "source": [
    "ps_employee_df = spark.read.csv(os.path.join(cwd, 'Employee_dataset.csv'), header=True, inferSchema=True)\n",
    "ps_employee_salary = spark.read.csv(os.path.join(cwd, 'Employee_salaries.csv'), header=True, inferSchema=True)"
   ]
  },
  {
   "cell_type": "code",
   "execution_count": 8,
   "id": "9f68c702",
   "metadata": {},
   "outputs": [],
   "source": [
    "# merge both the datasets on \"jobId\" column\n",
    "ps_master_dataset = ps_employee_df.join(ps_employee_salary, on='jobId', how='inner')"
   ]
  },
  {
   "cell_type": "markdown",
   "id": "2d1bc7dc",
   "metadata": {},
   "source": [
    "#### PySpark Data Cleaning: Handle Missing Values & Duplicate Values"
   ]
  },
  {
   "cell_type": "code",
   "execution_count": 9,
   "id": "9301f7a2",
   "metadata": {},
   "outputs": [],
   "source": [
    "\"\"\"\n",
    "remove both the missing values and duplicates\n",
    "\"\"\"\n",
    "\n",
    "# remove missing \n",
    "ps_master_dataset = ps_master_dataset.dropna(how='any')\n",
    "# remove duplicates\n",
    "ps_master_dataset = ps_master_dataset.dropDuplicates()"
   ]
  },
  {
   "cell_type": "markdown",
   "id": "7092b52d",
   "metadata": {},
   "source": [
    "### PySpark Data Cleaning: Handling \"NONE\" Values"
   ]
  },
  {
   "cell_type": "code",
   "execution_count": 10,
   "id": "85235645",
   "metadata": {},
   "outputs": [],
   "source": [
    "none_columns = ['major', 'education'] # define the columns to replace 'NONE' with null\n",
    "for column in none_columns:\n",
    "    ps_master_dataset = ps_master_dataset.withColumn(column, when(col(column) == 'NONE', None).otherwise(col(column)))"
   ]
  },
  {
   "cell_type": "code",
   "execution_count": 11,
   "id": "a8a8509a",
   "metadata": {},
   "outputs": [],
   "source": [
    "ps_master_dataset = ps_master_dataset.dropna(how='all', subset=['major', 'education'])\n",
    "ps_master_dataset = ps_master_dataset.fillna('Unknown', subset=['major', 'education'])"
   ]
  },
  {
   "cell_type": "markdown",
   "id": "74599d99",
   "metadata": {},
   "source": [
    "#### PySpark Data Cleaning: Standardise Columns"
   ]
  },
  {
   "cell_type": "code",
   "execution_count": 13,
   "id": "fc50cd18",
   "metadata": {},
   "outputs": [],
   "source": [
    "categorical_columns = [\"jobRole\", \"education\", \"major\", \"industry\"]\n",
    "\n",
    "# Apply lower and trim functions\n",
    "for column in categorical_columns:\n",
    "    ps_master_dataset = ps_master_dataset.withColumn(column, lower(trim(col(column))))"
   ]
  },
  {
   "cell_type": "markdown",
   "id": "246c8d0b",
   "metadata": {},
   "source": [
    "#### PySpark Data Cleaning: Filter Outliers"
   ]
  },
  {
   "cell_type": "code",
   "execution_count": 14,
   "id": "83a51643",
   "metadata": {},
   "outputs": [],
   "source": [
    "# Filter outliers based on your criteria\n",
    "ps_master_dataset = ps_master_dataset.filter(\n",
    "    (col(\"distanceFromCBD\") <= 60) &\n",
    "    (col(\"salaryInThousands\").between(18.5, 222.5)) &\n",
    "    (col(\"salaryInThousands\") > 0)\n",
    ")"
   ]
  },
  {
   "cell_type": "markdown",
   "id": "7661ad93",
   "metadata": {},
   "source": [
    "#### PySpark Data Cleaning: View The Schema and the current Dataset"
   ]
  },
  {
   "cell_type": "code",
   "execution_count": 15,
   "id": "115c8d4b",
   "metadata": {},
   "outputs": [
    {
     "name": "stdout",
     "output_type": "stream",
     "text": [
      "Schema after cleaning:\n",
      "root\n",
      " |-- jobId: string (nullable = true)\n",
      " |-- companyId: string (nullable = true)\n",
      " |-- jobRole: string (nullable = true)\n",
      " |-- education: string (nullable = false)\n",
      " |-- major: string (nullable = false)\n",
      " |-- industry: string (nullable = true)\n",
      " |-- yearsExperience: integer (nullable = true)\n",
      " |-- distanceFromCBD: integer (nullable = true)\n",
      " |-- salaryInThousands: integer (nullable = true)\n",
      "\n",
      "\\nSample of the cleaned data:\n"
     ]
    },
    {
     "name": "stderr",
     "output_type": "stream",
     "text": [
      "[Stage 8:>                                                          (0 + 1) / 1]\r"
     ]
    },
    {
     "name": "stdout",
     "output_type": "stream",
     "text": [
      "+----------------+---------+--------------+-----------+----------+--------+---------------+---------------+-----------------+\n",
      "|           jobId|companyId|       jobRole|  education|     major|industry|yearsExperience|distanceFromCBD|salaryInThousands|\n",
      "+----------------+---------+--------------+-----------+----------+--------+---------------+---------------+-----------------+\n",
      "|JOB1362684407724|    COMP8|vice_president|   doctoral|  business|  health|             24|             35|              183|\n",
      "|JOB1362684407746|   COMP11|vice_president|    masters|literature| service|             10|              5|              106|\n",
      "|JOB1362684407774|   COMP44|        junior|   doctoral| chemistry|     web|             19|             35|              162|\n",
      "|JOB1362684407797|   COMP51|       manager|   doctoral|   compsci| service|             22|              9|              207|\n",
      "|JOB1362684407814|   COMP24|           ceo|   doctoral|literature|     web|              6|             30|              112|\n",
      "|JOB1362684407873|   COMP15|       janitor|high_school|   unknown|     oil|              2|             49|               59|\n",
      "|JOB1362684407874|   COMP51|           ceo|   doctoral| chemistry|    auto|             16|             47|              154|\n",
      "|JOB1362684407911|   COMP61|        senior|    masters|   compsci| finance|             14|             38|              165|\n",
      "|JOB1362684407930|    COMP3|           cto|    masters|  business|  health|              0|              5|              108|\n",
      "|JOB1362684407931|    COMP1|        senior|  bachelors|      math| service|              6|             49|               73|\n",
      "+----------------+---------+--------------+-----------+----------+--------+---------------+---------------+-----------------+\n",
      "only showing top 10 rows\n",
      "\n"
     ]
    },
    {
     "name": "stderr",
     "output_type": "stream",
     "text": [
      "                                                                                \r"
     ]
    }
   ],
   "source": [
    "print(\"Schema after cleaning:\")\n",
    "ps_master_dataset.printSchema()\n",
    "\n",
    "print(\"\\\\nSample of the cleaned data:\")\n",
    "ps_master_dataset.show(10)"
   ]
  },
  {
   "cell_type": "code",
   "execution_count": 16,
   "id": "4722a894",
   "metadata": {},
   "outputs": [
    {
     "name": "stderr",
     "output_type": "stream",
     "text": [
      "[Stage 13:>                                                         (0 + 8) / 8]\r"
     ]
    },
    {
     "name": "stdout",
     "output_type": "stream",
     "text": [
      "\\nTotal rows after cleaning: 458823\n"
     ]
    },
    {
     "name": "stderr",
     "output_type": "stream",
     "text": [
      "                                                                                \r"
     ]
    }
   ],
   "source": [
    "# To check the row count after cleaning\n",
    "print(f\"\\\\nTotal rows after cleaning: {ps_master_dataset.count()}\")"
   ]
  },
  {
   "cell_type": "markdown",
   "id": "329a23d1",
   "metadata": {},
   "source": [
    "Sanity Check "
   ]
  },
  {
   "cell_type": "code",
   "execution_count": 17,
   "id": "8d305236",
   "metadata": {},
   "outputs": [
    {
     "name": "stderr",
     "output_type": "stream",
     "text": [
      "[Stage 22:>                                                         (0 + 8) / 8]\r"
     ]
    },
    {
     "name": "stdout",
     "output_type": "stream",
     "text": [
      "+-----+---------+-------+---------+-----+--------+---------------+---------------+-----------------+\n",
      "|jobId|companyId|jobRole|education|major|industry|yearsExperience|distanceFromCBD|salaryInThousands|\n",
      "+-----+---------+-------+---------+-----+--------+---------------+---------------+-----------------+\n",
      "|    0|        0|      0|        0|    0|       0|              0|              0|                0|\n",
      "+-----+---------+-------+---------+-----+--------+---------------+---------------+-----------------+\n",
      "\n"
     ]
    },
    {
     "name": "stderr",
     "output_type": "stream",
     "text": [
      "                                                                                \r"
     ]
    }
   ],
   "source": [
    "from pyspark.sql.functions import col, count, when\n",
    "\n",
    "# Count nulls in each column of your cleaned DataFrame\n",
    "ps_master_dataset.select(\n",
    "    [count(when(col(c).isNull(), c)).alias(c) for c in ps_master_dataset.columns]\n",
    ").show()"
   ]
  },
  {
   "cell_type": "markdown",
   "id": "7956059c",
   "metadata": {},
   "source": [
    "### PySpark: Model Training Round 1:"
   ]
  },
  {
   "cell_type": "code",
   "execution_count": 1,
   "id": "49c7aebf",
   "metadata": {},
   "outputs": [],
   "source": [
    "from pyspark.sql import SparkSession\n",
    "from pyspark.sql.functions import col\n",
    "from pyspark.ml import Pipeline\n",
    "from pyspark.ml.feature import (\n",
    "    StringIndexer,\n",
    "    OneHotEncoder,\n",
    "    VectorAssembler,\n",
    "    StandardScaler,\n",
    ")\n",
    "from pyspark.ml.regression import (\n",
    "    LinearRegression,\n",
    "    RandomForestRegressor,\n",
    "    GBTRegressor,\n",
    ")\n",
    "from pyspark.ml.tuning import CrossValidator, ParamGridBuilder\n",
    "from pyspark.ml.evaluation import RegressionEvaluator"
   ]
  },
  {
   "cell_type": "code",
   "execution_count": 2,
   "id": "35cde855",
   "metadata": {},
   "outputs": [
    {
     "name": "stderr",
     "output_type": "stream",
     "text": [
      "25/08/03 01:35:15 WARN Utils: Your hostname, Sais-Macbook-Air.local resolves to a loopback address: 127.0.0.1; using 192.168.0.14 instead (on interface en0)\n",
      "25/08/03 01:35:15 WARN Utils: Set SPARK_LOCAL_IP if you need to bind to another address\n",
      "Setting default log level to \"WARN\".\n",
      "To adjust logging level use sc.setLogLevel(newLevel). For SparkR, use setLogLevel(newLevel).\n",
      "25/08/03 01:35:16 WARN NativeCodeLoader: Unable to load native-hadoop library for your platform... using builtin-java classes where applicable\n"
     ]
    }
   ],
   "source": [
    "spark = SparkSession.builder.appName(\"SalaryPrediction\").getOrCreate()"
   ]
  },
  {
   "cell_type": "code",
   "execution_count": 3,
   "id": "be63f363",
   "metadata": {},
   "outputs": [
    {
     "name": "stderr",
     "output_type": "stream",
     "text": [
      "                                                                                \r"
     ]
    }
   ],
   "source": [
    "df = spark.read.csv(\n",
    "    \"master_dataset.csv\", header=True, inferSchema=True\n",
    ")"
   ]
  },
  {
   "cell_type": "markdown",
   "id": "3e3632af",
   "metadata": {},
   "source": [
    "#### PySpark Model Training Round 1: Data Pre-Processing"
   ]
  },
  {
   "cell_type": "code",
   "execution_count": 4,
   "id": "b00b8bd9",
   "metadata": {},
   "outputs": [],
   "source": [
    "# Define your feature columns\n",
    "categorical_cols = [\"jobRole\", \"education\", \"major\", \"industry\"]\n",
    "numerical_cols = [\"yearsExperience\", \"distanceFromCBD\"]\n",
    "\n",
    "# This list will hold all the individual pipeline stages\n",
    "stages = []\n"
   ]
  },
  {
   "cell_type": "code",
   "execution_count": 5,
   "id": "4fa091d3",
   "metadata": {},
   "outputs": [],
   "source": [
    "from pyspark.sql import SparkSession\n",
    "from pyspark.ml import Pipeline\n",
    "from pyspark.ml.feature import (\n",
    "    StringIndexer,\n",
    "    VectorAssembler,\n",
    "    StandardScaler,\n",
    ")\n",
    "for c in categorical_cols:\n",
    "    string_indexer = StringIndexer(inputCol=c, outputCol=f\"{c}_idx\")\n",
    "    \n",
    "    # ***FIX 2: Use the modern syntax for OneHotEncoder***\n",
    "    # The input/output columns are passed directly to the constructor.\n",
    "    onehot_encoder = OneHotEncoder(inputCol=f\"{c}_idx\", outputCol=f\"{c}_ohe\")\n",
    "    \n",
    "    stages += [string_indexer, onehot_encoder]\n",
    "\n",
    "\n",
    "# Stage 3: Assemble numerical features into a single vector\n",
    "numerical_assembler = VectorAssembler(\n",
    "    inputCols=numerical_cols, outputCol=\"numerical_features\"\n",
    ")\n",
    "scaler = StandardScaler(\n",
    "    inputCol=\"numerical_features\", \n",
    "    outputCol=\"scaled_numerical_features\"\n",
    ")\n",
    "\n",
    "stages += [numerical_assembler,scaler]"
   ]
  },
  {
   "cell_type": "code",
   "execution_count": 6,
   "id": "e782932d",
   "metadata": {},
   "outputs": [],
   "source": [
    "# Stage 5: Assemble all processed features into a final vector for the model\n",
    "feature_cols = [f\"{c}_ohe\" for c in categorical_cols] + [\n",
    "    \"scaled_numerical_features\"\n",
    "]\n",
    "final_assembler = VectorAssembler(\n",
    "    inputCols=feature_cols, outputCol=\"features\"\n",
    ")\n",
    "stages += [final_assembler]"
   ]
  },
  {
   "cell_type": "code",
   "execution_count": 7,
   "id": "f55ccb6e",
   "metadata": {},
   "outputs": [
    {
     "name": "stderr",
     "output_type": "stream",
     "text": [
      "                                                                                \r"
     ]
    }
   ],
   "source": [
    "# feature_pipeline = Pipeline(stages=stages)\n",
    "\n",
    "# # Fit the pipeline to the data to learn transformations and then transform the data\n",
    "# prepped_df = feature_pipeline.fit(df).transform(df)\n",
    "\n",
    "# # Split data into training (60%), validation (20%), and testing (20%) sets\n",
    "# train_df, val_df, test_df = prepped_df.randomSplit([0.6, 0.2, 0.2], seed=42)\n",
    "\n",
    "feature_pipeline = Pipeline(stages=stages)\n",
    "prepped_df = feature_pipeline.fit(df).transform(df)\n",
    "train_df, val_df, test_df = prepped_df.randomSplit([0.6, 0.2, 0.2], seed=42)"
   ]
  },
  {
   "cell_type": "code",
   "execution_count": 8,
   "id": "06cd6530",
   "metadata": {},
   "outputs": [
    {
     "name": "stdout",
     "output_type": "stream",
     "text": [
      "Preprocessing complete. Schema of the final DataFrame:\n",
      "root\n",
      " |-- jobId: string (nullable = true)\n",
      " |-- companyId: string (nullable = true)\n",
      " |-- jobRole: string (nullable = true)\n",
      " |-- education: string (nullable = true)\n",
      " |-- major: string (nullable = true)\n",
      " |-- industry: string (nullable = true)\n",
      " |-- yearsExperience: double (nullable = true)\n",
      " |-- distanceFromCBD: double (nullable = true)\n",
      " |-- salaryInThousands: double (nullable = true)\n",
      " |-- distanceGroup: string (nullable = true)\n",
      " |-- jobRole_idx: double (nullable = false)\n",
      " |-- jobRole_ohe: vector (nullable = true)\n",
      " |-- education_idx: double (nullable = false)\n",
      " |-- education_ohe: vector (nullable = true)\n",
      " |-- major_idx: double (nullable = false)\n",
      " |-- major_ohe: vector (nullable = true)\n",
      " |-- industry_idx: double (nullable = false)\n",
      " |-- industry_ohe: vector (nullable = true)\n",
      " |-- numerical_features: vector (nullable = true)\n",
      " |-- scaled_numerical_features: vector (nullable = true)\n",
      " |-- features: vector (nullable = true)\n",
      "\n",
      "\\nSample of the training data:\n"
     ]
    },
    {
     "name": "stderr",
     "output_type": "stream",
     "text": [
      "                                                                                \r"
     ]
    },
    {
     "name": "stdout",
     "output_type": "stream",
     "text": [
      "+------------------------------------------------------------------------------+-----------------+\n",
      "|features                                                                      |salaryInThousands|\n",
      "+------------------------------------------------------------------------------+-----------------+\n",
      "|(26,[3,9,17,24,25],[1.0,1.0,1.0,2.9249692634886015,1.4764449196256981])       |193.0            |\n",
      "|(26,[2,9,11,22,24,25],[1.0,1.0,1.0,1.0,3.2035377647732304,2.4418127516886545])|126.0            |\n",
      "|(26,[6,8,15,19,24,25],[1.0,1.0,1.0,1.0,3.342822015415545,2.271453722501074])  |158.0            |\n",
      "|(26,[7,10,24,25],[1.0,1.0,2.7856850128462876,1.3060858904381174])             |101.0            |\n",
      "|(26,[5,8,14,20,24,25],[1.0,1.0,1.0,1.0,2.5071165115616587,1.8171629780008591])|132.0            |\n",
      "+------------------------------------------------------------------------------+-----------------+\n",
      "only showing top 5 rows\n",
      "\n"
     ]
    },
    {
     "name": "stderr",
     "output_type": "stream",
     "text": [
      "                                                                                \r"
     ]
    },
    {
     "name": "stdout",
     "output_type": "stream",
     "text": [
      "Training Data Count: 275859\n"
     ]
    },
    {
     "name": "stderr",
     "output_type": "stream",
     "text": [
      "                                                                                \r"
     ]
    },
    {
     "name": "stdout",
     "output_type": "stream",
     "text": [
      "Validation Data Count: 91257\n"
     ]
    },
    {
     "name": "stderr",
     "output_type": "stream",
     "text": [
      "[Stage 24:=======>                                                  (1 + 7) / 8]\r"
     ]
    },
    {
     "name": "stdout",
     "output_type": "stream",
     "text": [
      "Test Data Count: 91707\n"
     ]
    },
    {
     "name": "stderr",
     "output_type": "stream",
     "text": [
      "                                                                                \r"
     ]
    }
   ],
   "source": [
    "print(\"Preprocessing complete. Schema of the final DataFrame:\")\n",
    "train_df.printSchema()\n",
    "\n",
    "print(\"\\\\nSample of the training data:\")\n",
    "train_df.select(\"features\", \"salaryInThousands\").show(5, truncate=False)\n",
    "\n",
    "print(f\"Training Data Count: {train_df.count()}\")\n",
    "print(f\"Validation Data Count: {val_df.count()}\")\n",
    "print(f\"Test Data Count: {test_df.count()}\")"
   ]
  },
  {
   "cell_type": "markdown",
   "id": "88c5ff18",
   "metadata": {},
   "source": [
    "#### PySpark Fine Tuning Round 1: Model Training & Evaluation"
   ]
  },
  {
   "cell_type": "code",
   "execution_count": 9,
   "id": "30bc3bbf",
   "metadata": {},
   "outputs": [],
   "source": [
    "evaluator = RegressionEvaluator(\n",
    "    labelCol=\"salaryInThousands\", predictionCol=\"prediction\", metricName=\"rmse\"\n",
    ")"
   ]
  },
  {
   "cell_type": "markdown",
   "id": "02c7fa2f",
   "metadata": {},
   "source": [
    "Define a hell of a lot of Models"
   ]
  },
  {
   "cell_type": "code",
   "execution_count": 10,
   "id": "f1fb476b",
   "metadata": {},
   "outputs": [],
   "source": [
    "lr = LinearRegression(featuresCol=\"features\", labelCol=\"salaryInThousands\")\n",
    "lr_param_grid = (\n",
    "    ParamGridBuilder()\n",
    "    .addGrid(lr.regParam, [0.01, 0.1])\n",
    "    .addGrid(lr.elasticNetParam, [0.0, 1.0])\n",
    "    .build()\n",
    ")\n",
    "\n",
    "# --- Model 2: Random Forest Regressor ---\n",
    "rf = RandomForestRegressor(featuresCol=\"features\", labelCol=\"salaryInThousands\", seed=42)\n",
    "rf_param_grid = (\n",
    "    ParamGridBuilder()\n",
    "    .addGrid(rf.numTrees, [20, 50])\n",
    "    .addGrid(rf.maxDepth, [5, 10])\n",
    "    .build()\n",
    ")\n",
    "\n",
    "# --- Model 3: Gradient-Boosted Tree (GBT) Regressor ---\n",
    "gbt = GBTRegressor(featuresCol=\"features\", labelCol=\"salaryInThousands\", seed=42)\n",
    "gbt_param_grid = (\n",
    "    ParamGridBuilder()\n",
    "    .addGrid(gbt.maxIter, [20, 50])\n",
    "    .addGrid(gbt.maxDepth, [2, 5])\n",
    "    .build()\n",
    ")"
   ]
  },
  {
   "cell_type": "markdown",
   "id": "57bb38ca",
   "metadata": {},
   "source": [
    "##### PySpark Model Training Round 1: Instantiation of Cross Validation"
   ]
  },
  {
   "cell_type": "code",
   "execution_count": 11,
   "id": "0e141600",
   "metadata": {},
   "outputs": [],
   "source": [
    "# Linear Regression Cross-Validator\n",
    "lr_cv = CrossValidator(\n",
    "    estimator=lr,\n",
    "    estimatorParamMaps=lr_param_grid,\n",
    "    evaluator=evaluator,\n",
    "    numFolds=3, # Use 3 folds for cross-validation\n",
    ")\n",
    "\n",
    "# Random Forest Cross-Validator\n",
    "rf_cv = CrossValidator(\n",
    "    estimator=rf,\n",
    "    estimatorParamMaps=rf_param_grid,\n",
    "    evaluator=evaluator,\n",
    "    numFolds=3,\n",
    ")\n",
    "\n",
    "# GBT Regressor Cross-Validator\n",
    "gbt_cv = CrossValidator(\n",
    "    estimator=gbt,\n",
    "    estimatorParamMaps=gbt_param_grid,\n",
    "    evaluator=evaluator,\n",
    "    numFolds=3,\n",
    ")"
   ]
  },
  {
   "cell_type": "markdown",
   "id": "f6523f86",
   "metadata": {},
   "source": [
    "##### PySpark Model Training Round 1: Model Training"
   ]
  },
  {
   "cell_type": "code",
   "execution_count": 12,
   "id": "aec37fc4",
   "metadata": {},
   "outputs": [
    {
     "name": "stdout",
     "output_type": "stream",
     "text": [
      "--- Training Linear Regression Model ---\n"
     ]
    },
    {
     "name": "stderr",
     "output_type": "stream",
     "text": [
      "25/08/03 01:39:12 WARN InstanceBuilder: Failed to load implementation from:dev.ludovic.netlib.blas.JNIBLAS\n",
      "25/08/03 01:39:12 WARN InstanceBuilder: Failed to load implementation from:dev.ludovic.netlib.lapack.JNILAPACK\n",
      "                                                                                \r"
     ]
    },
    {
     "name": "stdout",
     "output_type": "stream",
     "text": [
      "\\n--- Training Random Forest Model ---\n"
     ]
    },
    {
     "name": "stderr",
     "output_type": "stream",
     "text": [
      "25/08/03 01:39:58 WARN DAGScheduler: Broadcasting large task binary with size 1088.3 KiB\n",
      "25/08/03 01:39:59 WARN DAGScheduler: Broadcasting large task binary with size 1790.8 KiB\n",
      "25/08/03 01:40:01 WARN DAGScheduler: Broadcasting large task binary with size 2.9 MiB\n",
      "25/08/03 01:40:10 WARN DAGScheduler: Broadcasting large task binary with size 1342.8 KiB\n",
      "25/08/03 01:40:11 WARN DAGScheduler: Broadcasting large task binary with size 2.3 MiB\n",
      "25/08/03 01:40:13 WARN DAGScheduler: Broadcasting large task binary with size 4.0 MiB\n",
      "25/08/03 01:40:16 WARN DAGScheduler: Broadcasting large task binary with size 7.0 MiB\n",
      "25/08/03 01:40:20 WARN DAGScheduler: Broadcasting large task binary with size 1687.4 KiB\n",
      "25/08/03 01:40:34 WARN DAGScheduler: Broadcasting large task binary with size 1088.5 KiB\n",
      "25/08/03 01:40:35 WARN DAGScheduler: Broadcasting large task binary with size 1780.4 KiB\n",
      "25/08/03 01:40:35 WARN DAGScheduler: Broadcasting large task binary with size 2.9 MiB\n",
      "25/08/03 01:40:45 WARN DAGScheduler: Broadcasting large task binary with size 1340.1 KiB\n",
      "25/08/03 01:40:46 WARN DAGScheduler: Broadcasting large task binary with size 2.3 MiB\n",
      "25/08/03 01:40:48 WARN DAGScheduler: Broadcasting large task binary with size 4.0 MiB\n",
      "25/08/03 01:40:52 WARN DAGScheduler: Broadcasting large task binary with size 6.9 MiB\n",
      "25/08/03 01:40:55 WARN DAGScheduler: Broadcasting large task binary with size 1664.6 KiB\n",
      "25/08/03 01:41:07 WARN DAGScheduler: Broadcasting large task binary with size 1084.0 KiB\n",
      "25/08/03 01:41:08 WARN DAGScheduler: Broadcasting large task binary with size 1787.7 KiB\n",
      "25/08/03 01:41:09 WARN DAGScheduler: Broadcasting large task binary with size 2.9 MiB\n",
      "25/08/03 01:41:19 WARN DAGScheduler: Broadcasting large task binary with size 1338.5 KiB\n",
      "25/08/03 01:41:21 WARN DAGScheduler: Broadcasting large task binary with size 2.3 MiB\n",
      "25/08/03 01:41:25 WARN DAGScheduler: Broadcasting large task binary with size 4.0 MiB\n",
      "25/08/03 01:41:30 WARN DAGScheduler: Broadcasting large task binary with size 7.0 MiB\n",
      "25/08/03 01:41:36 WARN DAGScheduler: Broadcasting large task binary with size 1703.8 KiB\n",
      "25/08/03 01:41:49 WARN DAGScheduler: Broadcasting large task binary with size 1276.9 KiB\n",
      "25/08/03 01:41:51 WARN DAGScheduler: Broadcasting large task binary with size 2.2 MiB\n",
      "25/08/03 01:41:54 WARN DAGScheduler: Broadcasting large task binary with size 3.9 MiB\n",
      "25/08/03 01:41:58 WARN DAGScheduler: Broadcasting large task binary with size 7.0 MiB\n",
      "25/08/03 01:42:03 WARN DAGScheduler: Broadcasting large task binary with size 1710.5 KiB\n",
      "                                                                                \r"
     ]
    },
    {
     "name": "stdout",
     "output_type": "stream",
     "text": [
      "\\n--- Training GBT Regressor Model ---\n"
     ]
    },
    {
     "name": "stderr",
     "output_type": "stream",
     "text": [
      "                                                                                \r"
     ]
    }
   ],
   "source": [
    "print(\"--- Training Linear Regression Model ---\")\n",
    "lr_model = lr_cv.fit(train_df)\n",
    "\n",
    "print(\"\\\\n--- Training Random Forest Model ---\")\n",
    "rf_model = rf_cv.fit(train_df)\n",
    "\n",
    "print(\"\\\\n--- Training GBT Regressor Model ---\")\n",
    "gbt_model = gbt_cv.fit(train_df)"
   ]
  },
  {
   "cell_type": "code",
   "execution_count": 13,
   "id": "466f3acd",
   "metadata": {},
   "outputs": [
    {
     "name": "stdout",
     "output_type": "stream",
     "text": [
      "\\n--- Final Model Evaluation on Test Data ---\n"
     ]
    },
    {
     "name": "stderr",
     "output_type": "stream",
     "text": [
      "                                                                                \r"
     ]
    },
    {
     "name": "stdout",
     "output_type": "stream",
     "text": [
      "Linear Regression -> RMSE: 20.55, R-squared: 0.69\n"
     ]
    },
    {
     "name": "stderr",
     "output_type": "stream",
     "text": [
      "                                                                                \r"
     ]
    },
    {
     "name": "stdout",
     "output_type": "stream",
     "text": [
      "Random Forest -> RMSE: 22.31, R-squared: 0.63\n"
     ]
    },
    {
     "name": "stderr",
     "output_type": "stream",
     "text": [
      "[Stage 3923:=======>                                                (1 + 7) / 8]\r"
     ]
    },
    {
     "name": "stdout",
     "output_type": "stream",
     "text": [
      "GBT Regressor -> RMSE: 20.64, R-squared: 0.69\n"
     ]
    },
    {
     "name": "stderr",
     "output_type": "stream",
     "text": [
      "                                                                                \r"
     ]
    }
   ],
   "source": [
    "print(\"\\\\n--- Final Model Evaluation on Test Data ---\")\n",
    "\n",
    "# Evaluate Linear Regression\n",
    "lr_predictions = lr_model.transform(test_df)\n",
    "lr_rmse = evaluator.evaluate(lr_predictions, {evaluator.metricName: \"rmse\"})\n",
    "lr_r2 = evaluator.evaluate(lr_predictions, {evaluator.metricName: \"r2\"})\n",
    "print(f\"Linear Regression -> RMSE: {lr_rmse:.2f}, R-squared: {lr_r2:.2f}\")\n",
    "\n",
    "# Evaluate Random Forest\n",
    "rf_predictions = rf_model.transform(test_df)\n",
    "rf_rmse = evaluator.evaluate(rf_predictions, {evaluator.metricName: \"rmse\"})\n",
    "rf_r2 = evaluator.evaluate(rf_predictions, {evaluator.metricName: \"r2\"})\n",
    "print(f\"Random Forest -> RMSE: {rf_rmse:.2f}, R-squared: {rf_r2:.2f}\")\n",
    "\n",
    "# Evaluate Gradient-Boosted Trees\n",
    "gbt_predictions = gbt_model.transform(test_df)\n",
    "gbt_rmse = evaluator.evaluate(gbt_predictions, {evaluator.metricName: \"rmse\"})\n",
    "gbt_r2 = evaluator.evaluate(gbt_predictions, {evaluator.metricName: \"r2\"})\n",
    "print(f\"GBT Regressor -> RMSE: {gbt_rmse:.2f}, R-squared: {gbt_r2:.2f}\")"
   ]
  },
  {
   "cell_type": "code",
   "execution_count": null,
   "id": "eabc4cf8",
   "metadata": {},
   "outputs": [],
   "source": []
  }
 ],
 "metadata": {
  "kernelspec": {
   "display_name": "new_y3s1",
   "language": "python",
   "name": "python3"
  },
  "language_info": {
   "codemirror_mode": {
    "name": "ipython",
    "version": 3
   },
   "file_extension": ".py",
   "mimetype": "text/x-python",
   "name": "python",
   "nbconvert_exporter": "python",
   "pygments_lexer": "ipython3",
   "version": "3.11.4"
  }
 },
 "nbformat": 4,
 "nbformat_minor": 5
}
